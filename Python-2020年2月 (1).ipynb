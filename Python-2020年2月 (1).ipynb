{
 "cells": [
  {
   "cell_type": "markdown",
   "metadata": {},
   "source": [
    "Python资料：\n",
    "\n",
    "1) MIT 计算机科学和PYTHON编程导论 2019 edx公开课:\n",
    "\n",
    "https://www.bilibili.com/video/av70679551?from=search&seid=15874362553313946100\n",
    "\n",
    "2) 廖雪峰：https://www.liaoxuefeng.com/wiki/1016959663602400\n",
    "\n",
    "3)《Python核心编程》（第二版）\n",
    "\n",
    "4) 《Python Cookbook》（第三版）"
   ]
  },
  {
   "cell_type": "markdown",
   "metadata": {},
   "source": [
    "# 0. Python简介\n",
    "\n",
    "### Python的官方介绍是：\n",
    "\n",
    "Python是一种简单易学，功能强大的编程语言，它有高效率的高层数据结构，简单而有效地实现面向对象编程。Python简洁的语法和对动态输入的支持，再加上解释性语言的本质，使得它在大多数平台上的许多领域都是一个理想的脚本语言，特别适用于快速的应用程序开发。\n",
    "\n",
    "\n",
    "### Python的特点\n",
    "\n",
    "简单、易学、免费、开源、面向对象、可扩展性、可嵌入性、丰富的库\n",
    "\n",
    "#### 代码目标：Pythonic\n",
    "\n",
    "pythonic，简单的翻译就是python风格，pythonic code，就是说你写的代码要带有浓厚的python规范和python风格。如：列表推导式。\n",
    "\n",
    "#### 善用搜索\n",
    "1) 库已知：库文档（搜索 “库名 + documentation”）、百度、Google\n",
    "\n",
    "2) 库未知：百度、Google、Github\n",
    "\n",
    "#### 善用自带的help函数\n",
    "\n"
   ]
  },
  {
   "cell_type": "code",
   "execution_count": 1,
   "metadata": {},
   "outputs": [
    {
     "name": "stdout",
     "output_type": "stream",
     "text": [
      "Help on class list in module builtins:\n",
      "\n",
      "class list(object)\n",
      " |  list(iterable=(), /)\n",
      " |  \n",
      " |  Built-in mutable sequence.\n",
      " |  \n",
      " |  If no argument is given, the constructor creates a new empty list.\n",
      " |  The argument must be an iterable if specified.\n",
      " |  \n",
      " |  Methods defined here:\n",
      " |  \n",
      " |  __add__(self, value, /)\n",
      " |      Return self+value.\n",
      " |  \n",
      " |  __contains__(self, key, /)\n",
      " |      Return key in self.\n",
      " |  \n",
      " |  __delitem__(self, key, /)\n",
      " |      Delete self[key].\n",
      " |  \n",
      " |  __eq__(self, value, /)\n",
      " |      Return self==value.\n",
      " |  \n",
      " |  __ge__(self, value, /)\n",
      " |      Return self>=value.\n",
      " |  \n",
      " |  __getattribute__(self, name, /)\n",
      " |      Return getattr(self, name).\n",
      " |  \n",
      " |  __getitem__(...)\n",
      " |      x.__getitem__(y) <==> x[y]\n",
      " |  \n",
      " |  __gt__(self, value, /)\n",
      " |      Return self>value.\n",
      " |  \n",
      " |  __iadd__(self, value, /)\n",
      " |      Implement self+=value.\n",
      " |  \n",
      " |  __imul__(self, value, /)\n",
      " |      Implement self*=value.\n",
      " |  \n",
      " |  __init__(self, /, *args, **kwargs)\n",
      " |      Initialize self.  See help(type(self)) for accurate signature.\n",
      " |  \n",
      " |  __iter__(self, /)\n",
      " |      Implement iter(self).\n",
      " |  \n",
      " |  __le__(self, value, /)\n",
      " |      Return self<=value.\n",
      " |  \n",
      " |  __len__(self, /)\n",
      " |      Return len(self).\n",
      " |  \n",
      " |  __lt__(self, value, /)\n",
      " |      Return self<value.\n",
      " |  \n",
      " |  __mul__(self, value, /)\n",
      " |      Return self*value.\n",
      " |  \n",
      " |  __ne__(self, value, /)\n",
      " |      Return self!=value.\n",
      " |  \n",
      " |  __repr__(self, /)\n",
      " |      Return repr(self).\n",
      " |  \n",
      " |  __reversed__(self, /)\n",
      " |      Return a reverse iterator over the list.\n",
      " |  \n",
      " |  __rmul__(self, value, /)\n",
      " |      Return value*self.\n",
      " |  \n",
      " |  __setitem__(self, key, value, /)\n",
      " |      Set self[key] to value.\n",
      " |  \n",
      " |  __sizeof__(self, /)\n",
      " |      Return the size of the list in memory, in bytes.\n",
      " |  \n",
      " |  append(self, object, /)\n",
      " |      Append object to the end of the list.\n",
      " |  \n",
      " |  clear(self, /)\n",
      " |      Remove all items from list.\n",
      " |  \n",
      " |  copy(self, /)\n",
      " |      Return a shallow copy of the list.\n",
      " |  \n",
      " |  count(self, value, /)\n",
      " |      Return number of occurrences of value.\n",
      " |  \n",
      " |  extend(self, iterable, /)\n",
      " |      Extend list by appending elements from the iterable.\n",
      " |  \n",
      " |  index(self, value, start=0, stop=9223372036854775807, /)\n",
      " |      Return first index of value.\n",
      " |      \n",
      " |      Raises ValueError if the value is not present.\n",
      " |  \n",
      " |  insert(self, index, object, /)\n",
      " |      Insert object before index.\n",
      " |  \n",
      " |  pop(self, index=-1, /)\n",
      " |      Remove and return item at index (default last).\n",
      " |      \n",
      " |      Raises IndexError if list is empty or index is out of range.\n",
      " |  \n",
      " |  remove(self, value, /)\n",
      " |      Remove first occurrence of value.\n",
      " |      \n",
      " |      Raises ValueError if the value is not present.\n",
      " |  \n",
      " |  reverse(self, /)\n",
      " |      Reverse *IN PLACE*.\n",
      " |  \n",
      " |  sort(self, /, *, key=None, reverse=False)\n",
      " |      Stable sort *IN PLACE*.\n",
      " |  \n",
      " |  ----------------------------------------------------------------------\n",
      " |  Static methods defined here:\n",
      " |  \n",
      " |  __new__(*args, **kwargs) from builtins.type\n",
      " |      Create and return a new object.  See help(type) for accurate signature.\n",
      " |  \n",
      " |  ----------------------------------------------------------------------\n",
      " |  Data and other attributes defined here:\n",
      " |  \n",
      " |  __hash__ = None\n",
      "\n"
     ]
    }
   ],
   "source": [
    "help(list)"
   ]
  },
  {
   "cell_type": "markdown",
   "metadata": {},
   "source": [
    "# 一、 Anaconda安装与第三方库"
   ]
  },
  {
   "cell_type": "markdown",
   "metadata": {},
   "source": [
    "### 1.1 Anaconda安装：\n",
    "1. 官网（最新版）：https://www.anaconda.com/\n",
    "2. 百度网盘\n",
    "链接：https://pan.baidu.com/s/1VRi7qSnlIWJb2UdEpo4Qsg \n",
    "提取码：5xnd"
   ]
  },
  {
   "cell_type": "markdown",
   "metadata": {},
   "source": [
    "### 1.2 第三方库安装的三种方式：\n",
    "\n",
    "1) anaconda navigator 直接安装\n",
    "\n",
    "2) anaconda prompt: pip install 库名 \n",
    "\n",
    "3) 本地安装：\n",
    "\n",
    "解压文件\n",
    "\n",
    "cmd切换到文件setup.py的目录下\n",
    "\n",
    "执行python setup.py install "
   ]
  },
  {
   "cell_type": "markdown",
   "metadata": {},
   "source": [
    "### 1.3 第三方库的调用方式\n",
    "matplotlib文件夹中，有个模块（module）叫pyplot，文件为pyplot.py"
   ]
  },
  {
   "cell_type": "code",
   "execution_count": 2,
   "metadata": {},
   "outputs": [],
   "source": [
    "#直接调用\n",
    "import matplotlib\n",
    "\n",
    "#直接调用后，更改名字\n",
    "import matplotlib as mpl\n",
    "\n",
    "# 只调用里面的一个模块：两种方法\n",
    "import matplotlib.pyplot\n",
    "# 或者\n",
    "from matplotlib import pyplot\n",
    "\n",
    "# 只调用里面的一个模块，并命名：两种方法\n",
    "import matplotlib.pyplot as plt\n",
    "# 或者\n",
    "from matplotlib import pyplot as plt2"
   ]
  },
  {
   "cell_type": "code",
   "execution_count": 3,
   "metadata": {},
   "outputs": [
    {
     "name": "stdout",
     "output_type": "stream",
     "text": [
      "<module 'matplotlib' from 'E:\\\\Anaconda3\\\\lib\\\\site-packages\\\\matplotlib\\\\__init__.py'>\n",
      "<module 'matplotlib.pyplot' from 'E:\\\\Anaconda3\\\\lib\\\\site-packages\\\\matplotlib\\\\pyplot.py'>\n",
      "<module 'matplotlib.pyplot' from 'E:\\\\Anaconda3\\\\lib\\\\site-packages\\\\matplotlib\\\\pyplot.py'>\n"
     ]
    }
   ],
   "source": [
    "print(mpl)\n",
    "print(plt)\n",
    "print(plt2)   # plt和plt2是同一个对象，说明两种命名方法可行"
   ]
  },
  {
   "cell_type": "markdown",
   "metadata": {},
   "source": [
    "### 1.4 Python中的注释方式 "
   ]
  },
  {
   "cell_type": "code",
   "execution_count": null,
   "metadata": {},
   "outputs": [],
   "source": [
    "\"\"\"\n",
    "这是注释一，可以引用单引号''\n",
    "\"\"\"\n",
    "\n",
    "'''这是注释二'''\n",
    "\n",
    "# 这是注释三"
   ]
  },
  {
   "cell_type": "markdown",
   "metadata": {},
   "source": [
    "# 二、Jupyter Notebook 功能介绍\n",
    "\n",
    "1. 创建Notebook\n",
    "2. 运行代码：\n",
    "a)单格运行：Shift + Enter    \n",
    "b)从头运行\n",
    "3. 标题和注释\n",
    "4. 保存\n",
    "5. Notebook导出：notebook, html, pdf, py"
   ]
  },
  {
   "cell_type": "markdown",
   "metadata": {},
   "source": [
    "# 三、对象属性和常见的数据结构"
   ]
  },
  {
   "cell_type": "markdown",
   "metadata": {},
   "source": [
    "## 3.1 整数：int 和 浮点数：float\n"
   ]
  },
  {
   "cell_type": "markdown",
   "metadata": {},
   "source": [
    "### 3.1.1 计算\n",
    "+, -, *, /, **（幂）\n",
    "\n",
    "%（求余数）、//（地板除）,==（判断相等）,floor（小于的最大整数）, ceil（大于的最小整数）,log（对数），sqrt（开平方）"
   ]
  },
  {
   "cell_type": "code",
   "execution_count": 4,
   "metadata": {},
   "outputs": [
    {
     "name": "stdout",
     "output_type": "stream",
     "text": [
      "1\n",
      "2\n",
      "3\n",
      "2\n",
      "1\n"
     ]
    }
   ],
   "source": [
    "x = 1\n",
    "print(x)\n",
    "\n",
    "x = x + 1\n",
    "print(x)\n",
    "\n",
    "x += 1\n",
    "print(x)\n",
    "\n",
    "x = x - 1\n",
    "print(x)\n",
    "\n",
    "x -= 1\n",
    "print(x)"
   ]
  },
  {
   "cell_type": "code",
   "execution_count": 5,
   "metadata": {},
   "outputs": [
    {
     "name": "stdout",
     "output_type": "stream",
     "text": [
      "1\n",
      "2\n",
      "2.5\n"
     ]
    }
   ],
   "source": [
    "y = 5\n",
    "print(y%2)     # 求余数\n",
    "print(y//2)    # 求考虑余数的商\n",
    "print(y/2)     # 求商"
   ]
  },
  {
   "cell_type": "code",
   "execution_count": 6,
   "metadata": {
    "scrolled": true
   },
   "outputs": [
    {
     "data": {
      "text/plain": [
       "17.0"
      ]
     },
     "execution_count": 6,
     "metadata": {},
     "output_type": "execute_result"
    }
   ],
   "source": [
    "m = 3.2\n",
    "m * 5 + 1"
   ]
  },
  {
   "cell_type": "code",
   "execution_count": 7,
   "metadata": {},
   "outputs": [
    {
     "name": "stdout",
     "output_type": "stream",
     "text": [
      "25\n",
      "5.0\n"
     ]
    }
   ],
   "source": [
    "import math\n",
    "\n",
    "m = 5\n",
    "print(m ** 2)\n",
    "print(math.sqrt(m**2))\n"
   ]
  },
  {
   "cell_type": "code",
   "execution_count": 8,
   "metadata": {},
   "outputs": [
    {
     "name": "stdout",
     "output_type": "stream",
     "text": [
      "5\n",
      "6\n"
     ]
    }
   ],
   "source": [
    "import math\n",
    "\n",
    "m = 5.2\n",
    "print(math.floor(m))   # 地板除\n",
    "print(math.ceil(m))    # 天花板除"
   ]
  },
  {
   "cell_type": "markdown",
   "metadata": {},
   "source": [
    "### 3.1.2 取整与保留小数位"
   ]
  },
  {
   "cell_type": "code",
   "execution_count": 9,
   "metadata": {},
   "outputs": [
    {
     "name": "stdout",
     "output_type": "stream",
     "text": [
      "1.2\n",
      "1.3\n",
      "-1.3\n",
      "1.254\n"
     ]
    }
   ],
   "source": [
    "print(round(1.23, 1))\n",
    "print(round(1.27, 1))\n",
    "print(round(-1.27, 1))\n",
    "print(round(1.25361,3))"
   ]
  },
  {
   "cell_type": "code",
   "execution_count": 10,
   "metadata": {},
   "outputs": [
    {
     "name": "stdout",
     "output_type": "stream",
     "text": [
      "1.0\n",
      "1.0\n",
      "-1.0\n",
      "1.0\n"
     ]
    }
   ],
   "source": [
    "print(round(1.23, 0))\n",
    "print(round(1.27, 0))\n",
    "print(round(-1.27, 0))\n",
    "print(round(1.25361,0))"
   ]
  },
  {
   "cell_type": "code",
   "execution_count": 11,
   "metadata": {},
   "outputs": [
    {
     "name": "stdout",
     "output_type": "stream",
     "text": [
      "1627730\n",
      "1627700\n",
      "1628000\n"
     ]
    }
   ],
   "source": [
    "a = 1627731\n",
    "print(round(a, -1))\n",
    "print(round(a, -2))\n",
    "print(round(a, -3))"
   ]
  },
  {
   "cell_type": "code",
   "execution_count": 12,
   "metadata": {},
   "outputs": [
    {
     "name": "stdout",
     "output_type": "stream",
     "text": [
      "1.23\n",
      "1.235\n",
      "value is 1.235\n"
     ]
    }
   ],
   "source": [
    "x = 1.23456\n",
    "print(format(x, '0.2f'))\n",
    "print(format(x, '0.3f'))\n",
    "\n",
    "print('value is {:0.3f}'.format(x))"
   ]
  },
  {
   "cell_type": "markdown",
   "metadata": {},
   "source": [
    "### 3.1.3 使用decimal库来进行精确计算"
   ]
  },
  {
   "cell_type": "markdown",
   "metadata": {},
   "source": [
    "浮点数的一个普遍问题是它们并不能精确的表示十进制数。并且，即使是最简单的\n",
    "数学运算也会产生小的误差。\n",
    "\n",
    "这些错误是由底层 CPU 和 IEEE 754 标准通过自己的浮点单位去执行算术时的特\n",
    "征。由于 Python 的浮点数据类型使用底层表示存储数据，因此你没办法去避免这样的\n",
    "误差。"
   ]
  },
  {
   "cell_type": "code",
   "execution_count": 13,
   "metadata": {},
   "outputs": [
    {
     "name": "stdout",
     "output_type": "stream",
     "text": [
      "6.300000000000001\n",
      "False\n"
     ]
    }
   ],
   "source": [
    "a = 4.2\n",
    "b = 2.1\n",
    "print(a + b)\n",
    "print((a + b) == 6.3)"
   ]
  },
  {
   "cell_type": "code",
   "execution_count": 14,
   "metadata": {},
   "outputs": [
    {
     "data": {
      "text/plain": [
       "Decimal('6.3')"
      ]
     },
     "execution_count": 14,
     "metadata": {},
     "output_type": "execute_result"
    }
   ],
   "source": [
    "from decimal import Decimal   \n",
    "\n",
    "a = Decimal('4.2')\n",
    "b = Decimal('2.1')\n",
    "a + b\n"
   ]
  },
  {
   "cell_type": "code",
   "execution_count": 15,
   "metadata": {},
   "outputs": [
    {
     "name": "stdout",
     "output_type": "stream",
     "text": [
      "6.3\n",
      "True\n",
      "False\n"
     ]
    }
   ],
   "source": [
    "print(a + b)\n",
    "print(a+b == Decimal('6.3'))\n",
    "print(a+b == 6.3)\n",
    "\n",
    "# decimal库生成的是Decimal类的实例，不再是float浮点数。\n",
    "# 但是，使用print方法，依然可以返回数值。"
   ]
  },
  {
   "cell_type": "code",
   "execution_count": 16,
   "metadata": {},
   "outputs": [
    {
     "name": "stdout",
     "output_type": "stream",
     "text": [
      "<class 'decimal.Decimal'>\n",
      "<class 'float'>\n"
     ]
    }
   ],
   "source": [
    "print(type(Decimal('6.3')))\n",
    "print(type(6.3))"
   ]
  },
  {
   "cell_type": "markdown",
   "metadata": {},
   "source": [
    "## 3.2 字符串: str\n",
    "### 3.2.1 字符串创建和连接"
   ]
  },
  {
   "cell_type": "code",
   "execution_count": 17,
   "metadata": {},
   "outputs": [
    {
     "data": {
      "text/plain": [
       "'string'"
      ]
     },
     "execution_count": 17,
     "metadata": {},
     "output_type": "execute_result"
    }
   ],
   "source": [
    "a = 'string'\n",
    "a"
   ]
  },
  {
   "cell_type": "code",
   "execution_count": 18,
   "metadata": {},
   "outputs": [
    {
     "data": {
      "text/plain": [
       "'unununium'"
      ]
     },
     "execution_count": 18,
     "metadata": {},
     "output_type": "execute_result"
    }
   ],
   "source": [
    "3 * 'un' +'ium'"
   ]
  },
  {
   "cell_type": "code",
   "execution_count": 19,
   "metadata": {},
   "outputs": [
    {
     "data": {
      "text/plain": [
       "'hiighiuf'"
      ]
     },
     "execution_count": 19,
     "metadata": {},
     "output_type": "execute_result"
    }
   ],
   "source": [
    "'hi' 'ig''hi''uf'"
   ]
  },
  {
   "cell_type": "markdown",
   "metadata": {},
   "source": [
    "### 3.2.2 字符串切片"
   ]
  },
  {
   "cell_type": "code",
   "execution_count": 20,
   "metadata": {
    "scrolled": true
   },
   "outputs": [
    {
     "name": "stdout",
     "output_type": "stream",
     "text": [
      "P\n",
      "n\n"
     ]
    }
   ],
   "source": [
    "word = 'Python'\n",
    "print(word[0])\n",
    "print(word[5])"
   ]
  },
  {
   "cell_type": "code",
   "execution_count": 21,
   "metadata": {},
   "outputs": [
    {
     "name": "stdout",
     "output_type": "stream",
     "text": [
      "n\n",
      "P\n"
     ]
    }
   ],
   "source": [
    "word = 'Python'\n",
    "print(word[-1])\n",
    "print(word[-6])"
   ]
  },
  {
   "cell_type": "code",
   "execution_count": 22,
   "metadata": {},
   "outputs": [
    {
     "name": "stdout",
     "output_type": "stream",
     "text": [
      "tho\n",
      "Pytho\n"
     ]
    }
   ],
   "source": [
    "word = 'Python'\n",
    "print(word[2:5]) \n",
    "print(word[:5]) "
   ]
  },
  {
   "cell_type": "code",
   "execution_count": 23,
   "metadata": {},
   "outputs": [
    {
     "name": "stdout",
     "output_type": "stream",
     "text": [
      "10\n",
      "0369\n",
      "9630\n"
     ]
    }
   ],
   "source": [
    "word = '0123456789'\n",
    "print(len(word))\n",
    "print(word[::3])\n",
    "print(word[::-3])"
   ]
  },
  {
   "cell_type": "markdown",
   "metadata": {},
   "source": [
    "### 3.2.3 修改字符串"
   ]
  },
  {
   "cell_type": "code",
   "execution_count": 24,
   "metadata": {},
   "outputs": [
    {
     "ename": "TypeError",
     "evalue": "'str' object does not support item assignment",
     "output_type": "error",
     "traceback": [
      "\u001b[1;31m---------------------------------------------------------------------------\u001b[0m",
      "\u001b[1;31mTypeError\u001b[0m                                 Traceback (most recent call last)",
      "\u001b[1;32m<ipython-input-24-0f0b1937c164>\u001b[0m in \u001b[0;36m<module>\u001b[1;34m\u001b[0m\n\u001b[1;32m----> 1\u001b[1;33m \u001b[0mword\u001b[0m\u001b[1;33m[\u001b[0m\u001b[1;36m0\u001b[0m\u001b[1;33m]\u001b[0m \u001b[1;33m=\u001b[0m \u001b[1;34m'a'\u001b[0m\u001b[1;33m\u001b[0m\u001b[1;33m\u001b[0m\u001b[0m\n\u001b[0m\u001b[0;32m      2\u001b[0m \u001b[1;31m# 字符串无法通过切片方式修改\u001b[0m\u001b[1;33m\u001b[0m\u001b[1;33m\u001b[0m\u001b[1;33m\u001b[0m\u001b[0m\n",
      "\u001b[1;31mTypeError\u001b[0m: 'str' object does not support item assignment"
     ]
    }
   ],
   "source": [
    "word[0] = 'a'\n",
    "# 字符串无法通过切片方式修改"
   ]
  },
  {
   "cell_type": "code",
   "execution_count": 25,
   "metadata": {},
   "outputs": [
    {
     "data": {
      "text/plain": [
       "'pyehon'"
      ]
     },
     "execution_count": 25,
     "metadata": {},
     "output_type": "execute_result"
    }
   ],
   "source": [
    "'python'.replace('t','e')"
   ]
  },
  {
   "cell_type": "markdown",
   "metadata": {},
   "source": [
    "### 3.2.4 字符串的分割和连接"
   ]
  },
  {
   "cell_type": "code",
   "execution_count": 26,
   "metadata": {},
   "outputs": [
    {
     "data": {
      "text/plain": [
       "['Hello', ' world!']"
      ]
     },
     "execution_count": 26,
     "metadata": {},
     "output_type": "execute_result"
    }
   ],
   "source": [
    "'Hello, world!'.split(',')\n",
    "# split() 方法只适应于非常简单的字符串分割情形，它并不允许有多个分隔符或者是分隔符周围不确定的空格。"
   ]
  },
  {
   "cell_type": "code",
   "execution_count": 27,
   "metadata": {},
   "outputs": [
    {
     "name": "stdout",
     "output_type": "stream",
     "text": [
      "Hello world!\n"
     ]
    }
   ],
   "source": [
    "a = ['Hello', 'world!']\n",
    "print(\" \".join(a))"
   ]
  },
  {
   "cell_type": "markdown",
   "metadata": {},
   "source": [
    "### 3.2.5 使用re库处理字符串分割"
   ]
  },
  {
   "cell_type": "markdown",
   "metadata": {},
   "source": [
    "\\s 表示空格 \n",
    "\n",
    "\\s* 表示0至多个空格 \n",
    "\n",
    "正则表达式可参考👉 《正则表达式必知必会》"
   ]
  },
  {
   "cell_type": "code",
   "execution_count": 29,
   "metadata": {},
   "outputs": [
    {
     "data": {
      "text/plain": [
       "['asdf', 'fjdk', 'afed', 'fjek', 'asdf', 'foo']"
      ]
     },
     "execution_count": 29,
     "metadata": {},
     "output_type": "execute_result"
    }
   ],
   "source": [
    "\"\"\"\n",
    "string 对象的 split() 方法只适应于非常简单的字符串分割情形， 它并不允许有多个分\n",
    "隔符或者是分隔符周围不确定的空格。 当你需要更加灵活的切割字符串的时候，最好使\n",
    "用 re.split() 方法\n",
    "\"\"\"\n",
    "\n",
    "import re\n",
    "\n",
    "line = 'asdf fjdk; afed,    fjek,asdf,foo'\n",
    "\n",
    "re.split(r'[;,\\s]\\s*', line)"
   ]
  },
  {
   "cell_type": "markdown",
   "metadata": {},
   "source": [
    "### 3.2.6 字符串的搜索"
   ]
  },
  {
   "cell_type": "code",
   "execution_count": 30,
   "metadata": {},
   "outputs": [
    {
     "name": "stdout",
     "output_type": "stream",
     "text": [
      "True\n",
      "True\n"
     ]
    }
   ],
   "source": [
    "word = \"Hello world!\"\n",
    "\n",
    "print('H' in word)\n",
    "print('world' in word)"
   ]
  },
  {
   "cell_type": "markdown",
   "metadata": {},
   "source": [
    "### 3.2.7 字符串的遍历"
   ]
  },
  {
   "cell_type": "code",
   "execution_count": 31,
   "metadata": {},
   "outputs": [
    {
     "name": "stdout",
     "output_type": "stream",
     "text": [
      "H\n",
      "e\n",
      "l\n",
      "l\n",
      "o\n",
      " \n",
      "w\n",
      "o\n",
      "r\n",
      "l\n",
      "d\n",
      "!\n"
     ]
    }
   ],
   "source": [
    "word = \"Hello world!\"\n",
    "for i in word:\n",
    "    print(i)"
   ]
  },
  {
   "cell_type": "code",
   "execution_count": 32,
   "metadata": {},
   "outputs": [
    {
     "name": "stdout",
     "output_type": "stream",
     "text": [
      "Index: 0   Letter: H\n",
      "Index: 1   Letter: e\n",
      "Index: 2   Letter: l\n",
      "Index: 3   Letter: l\n",
      "Index: 4   Letter: o\n",
      "Index: 5   Letter:  \n",
      "Index: 6   Letter: w\n",
      "Index: 7   Letter: o\n",
      "Index: 8   Letter: r\n",
      "Index: 9   Letter: l\n",
      "Index: 10   Letter: d\n",
      "Index: 11   Letter: !\n"
     ]
    }
   ],
   "source": [
    "word = \"Hello world!\"\n",
    "\n",
    "for idx in range(len(word)):\n",
    "    print(\"Index: {}   Letter: {}\".format(idx, word[idx]))"
   ]
  },
  {
   "cell_type": "markdown",
   "metadata": {},
   "source": [
    "## 3.3 布尔值:boll"
   ]
  },
  {
   "cell_type": "code",
   "execution_count": 33,
   "metadata": {},
   "outputs": [
    {
     "name": "stdout",
     "output_type": "stream",
     "text": [
      "True\n",
      "False\n"
     ]
    }
   ],
   "source": [
    "print('python'.startswith('p'))\n",
    "print('python'.startswith('k'))"
   ]
  },
  {
   "cell_type": "code",
   "execution_count": 34,
   "metadata": {},
   "outputs": [
    {
     "name": "stdout",
     "output_type": "stream",
     "text": [
      "True\n",
      "False\n"
     ]
    }
   ],
   "source": [
    "print('python'.endswith('n'))\n",
    "print('python'.endswith('k'))"
   ]
  },
  {
   "cell_type": "code",
   "execution_count": 35,
   "metadata": {},
   "outputs": [
    {
     "name": "stdout",
     "output_type": "stream",
     "text": [
      "True\n",
      "True\n",
      "True\n",
      "False\n"
     ]
    }
   ],
   "source": [
    "# 1和True是等价的，0和False是等价的\n",
    "print(1 == 1)\n",
    "print(1 == True)\n",
    "print(0 == False)\n",
    "print(2 == True)"
   ]
  },
  {
   "cell_type": "markdown",
   "metadata": {},
   "source": [
    "## 3.4 列表：[]\n",
    "### 3.4.1 创建列表"
   ]
  },
  {
   "cell_type": "code",
   "execution_count": 37,
   "metadata": {
    "scrolled": true
   },
   "outputs": [
    {
     "name": "stdout",
     "output_type": "stream",
     "text": [
      "[]\n",
      "[]\n"
     ]
    }
   ],
   "source": [
    "empty_list = []\n",
    "empty_list2 = list()\n",
    "print(empty_list)\n",
    "print(empty_list2)"
   ]
  },
  {
   "cell_type": "code",
   "execution_count": 39,
   "metadata": {},
   "outputs": [
    {
     "name": "stdout",
     "output_type": "stream",
     "text": [
      "['p', 'y', 't', 'h', 'o', 'n']\n",
      "6\n"
     ]
    }
   ],
   "source": [
    "word = 'python'\n",
    "\n",
    "# 字符串向列表的转换\n",
    "print(list(word))\n",
    "print(len(list(word)))"
   ]
  },
  {
   "cell_type": "code",
   "execution_count": 40,
   "metadata": {},
   "outputs": [
    {
     "name": "stdout",
     "output_type": "stream",
     "text": [
      "{'python'}\n",
      "['python']\n"
     ]
    }
   ],
   "source": [
    "# 集合向列表的转换\n",
    "word_set = set()\n",
    "word_set.add(word)\n",
    "print(word_set)\n",
    "print(list(word_set))"
   ]
  },
  {
   "cell_type": "code",
   "execution_count": 41,
   "metadata": {},
   "outputs": [
    {
     "name": "stdout",
     "output_type": "stream",
     "text": [
      "[0, 1, 2, 3, 4, 5, 6, 7, 8, 9]\n",
      "[1, 2, 3, 4, 5, 6, 7, 8, 9, 10]\n",
      "[1, 4, 9, 16, 25, 36, 49, 64, 81, 100]\n"
     ]
    }
   ],
   "source": [
    "# 使用range\n",
    "range_list = list(range(10))\n",
    "range_list_2 = list(range(1, 11))\n",
    "range_list_3 = [i**2 for i in range(1,11)]  #列表推导式\n",
    "\n",
    "print(range_list)\n",
    "print(range_list_2)\n",
    "print(range_list_3)"
   ]
  },
  {
   "cell_type": "code",
   "execution_count": 42,
   "metadata": {},
   "outputs": [
    {
     "data": {
      "text/plain": [
       "[Series([], dtype: float64), ({}, (), set())]"
      ]
     },
     "execution_count": 42,
     "metadata": {},
     "output_type": "execute_result"
    }
   ],
   "source": [
    "# 列表内元素可以是任何对象。字典的值、集合内元素、元组内元素也同样可以是任何对象。\n",
    "import pandas as pd\n",
    "\n",
    "b_list = ['a', 100, [True, False],[ pd.Series(), (dict(), tuple(), set())]]\n",
    "\n",
    "b_list[-1]"
   ]
  },
  {
   "cell_type": "markdown",
   "metadata": {},
   "source": [
    "### 3.4.2　列表的切片"
   ]
  },
  {
   "cell_type": "code",
   "execution_count": 44,
   "metadata": {},
   "outputs": [
    {
     "name": "stdout",
     "output_type": "stream",
     "text": [
      "[0, 1, 2, 3, 4, 5, 6, 7, 8, 9]\n",
      "0\n",
      "9\n",
      "[2, 3, 4, 5, 6, 7, 8, 9]\n"
     ]
    }
   ],
   "source": [
    "range_list = list(range(10))\n",
    "print(range_list)\n",
    "print(range_list[0])\n",
    "print(range_list[-1])\n",
    "print(range_list[2:])"
   ]
  },
  {
   "cell_type": "code",
   "execution_count": 47,
   "metadata": {},
   "outputs": [
    {
     "name": "stdout",
     "output_type": "stream",
     "text": [
      "[0, 1, 2, 3, 4]\n",
      "0\n"
     ]
    }
   ],
   "source": [
    "x1,x2,x3,x4,x5 = list(range(5))\n",
    "print(list(range(5)))\n",
    "print(x1)"
   ]
  },
  {
   "cell_type": "markdown",
   "metadata": {},
   "source": [
    "### 3.4.3 列表的连接"
   ]
  },
  {
   "cell_type": "code",
   "execution_count": 48,
   "metadata": {},
   "outputs": [
    {
     "data": {
      "text/plain": [
       "['Python', 'is', 'not', 'SAS']"
      ]
     },
     "execution_count": 48,
     "metadata": {},
     "output_type": "execute_result"
    }
   ],
   "source": [
    "p_list = ['Python']\n",
    "s_list = ['SAS']\n",
    "combine = p_list + ['is', 'not'] + s_list\n",
    "combine"
   ]
  },
  {
   "cell_type": "code",
   "execution_count": 49,
   "metadata": {},
   "outputs": [
    {
     "data": {
      "text/plain": [
       "3"
      ]
     },
     "execution_count": 49,
     "metadata": {},
     "output_type": "execute_result"
    }
   ],
   "source": [
    "# 数值可用+=方法\n",
    "x = 1\n",
    "x += 2\n",
    "x"
   ]
  },
  {
   "cell_type": "code",
   "execution_count": 50,
   "metadata": {},
   "outputs": [
    {
     "data": {
      "text/plain": [
       "'Hello world!'"
      ]
     },
     "execution_count": 50,
     "metadata": {},
     "output_type": "execute_result"
    }
   ],
   "source": [
    "# 字符串可用+=方法\n",
    "y = \"Hello\"\n",
    "y += ' world!'\n",
    "y"
   ]
  },
  {
   "cell_type": "code",
   "execution_count": 51,
   "metadata": {},
   "outputs": [
    {
     "data": {
      "text/plain": [
       "['Python', 'is', 'not', 'SAS', '.']"
      ]
     },
     "execution_count": 51,
     "metadata": {},
     "output_type": "execute_result"
    }
   ],
   "source": [
    "# 列表也可用+=方法\n",
    "combine = ['Python', 'is', 'not', 'SAS']\n",
    "combine += ['.']\n",
    "combine"
   ]
  },
  {
   "cell_type": "code",
   "execution_count": 52,
   "metadata": {},
   "outputs": [
    {
     "data": {
      "text/plain": [
       "[1, 2, 3, 4, 5, 6]"
      ]
     },
     "execution_count": 52,
     "metadata": {},
     "output_type": "execute_result"
    }
   ],
   "source": [
    "# extend方法 是两个列表的连接\n",
    "m_list = [1,2,3]\n",
    "n_list = [4,5,6]\n",
    "m_list.extend(n_list)\n",
    "m_list"
   ]
  },
  {
   "cell_type": "code",
   "execution_count": 53,
   "metadata": {},
   "outputs": [
    {
     "data": {
      "text/plain": [
       "[1, 2, 3, 7, [4, 5, 6]]"
      ]
     },
     "execution_count": 53,
     "metadata": {},
     "output_type": "execute_result"
    }
   ],
   "source": [
    "# append方法，是在末尾加上一个元素\n",
    "m_list = [1,2,3]\n",
    "n_list = [4,5,6]\n",
    "m_list.append(7)\n",
    "m_list.append(n_list)\n",
    "m_list"
   ]
  },
  {
   "cell_type": "markdown",
   "metadata": {},
   "source": [
    "### 3.4.4 列表元素的定位"
   ]
  },
  {
   "cell_type": "code",
   "execution_count": 54,
   "metadata": {},
   "outputs": [
    {
     "name": "stdout",
     "output_type": "stream",
     "text": [
      "[1, 2, 3, 4, 5, 6, 7, 8, 9, 10]\n"
     ]
    }
   ],
   "source": [
    "m_list = list(range(1,11))\n",
    "print(m_list)\n"
   ]
  },
  {
   "cell_type": "code",
   "execution_count": 55,
   "metadata": {},
   "outputs": [
    {
     "name": "stdout",
     "output_type": "stream",
     "text": [
      "0\n"
     ]
    }
   ],
   "source": [
    "print(m_list.index(1))"
   ]
  },
  {
   "cell_type": "code",
   "execution_count": 57,
   "metadata": {},
   "outputs": [
    {
     "name": "stdout",
     "output_type": "stream",
     "text": [
      "2\n"
     ]
    }
   ],
   "source": [
    "print(m_list[m_list.index(1) +1])"
   ]
  },
  {
   "cell_type": "markdown",
   "metadata": {},
   "source": [
    "### 3.4.5 列表元素的移除"
   ]
  },
  {
   "cell_type": "code",
   "execution_count": 71,
   "metadata": {},
   "outputs": [
    {
     "data": {
      "text/plain": [
       "[1, 2, 3, 4, 5]"
      ]
     },
     "execution_count": 71,
     "metadata": {},
     "output_type": "execute_result"
    }
   ],
   "source": [
    "m_list = list(range(1,6))\n",
    "m_list"
   ]
  },
  {
   "cell_type": "code",
   "execution_count": 64,
   "metadata": {},
   "outputs": [
    {
     "ename": "IndexError",
     "evalue": "pop from empty list",
     "output_type": "error",
     "traceback": [
      "\u001b[1;31m---------------------------------------------------------------------------\u001b[0m",
      "\u001b[1;31mIndexError\u001b[0m                                Traceback (most recent call last)",
      "\u001b[1;32m<ipython-input-64-599cb962f2c3>\u001b[0m in \u001b[0;36m<module>\u001b[1;34m\u001b[0m\n\u001b[0;32m      1\u001b[0m \u001b[1;31m# pop用于移除末尾元素\u001b[0m\u001b[1;33m\u001b[0m\u001b[1;33m\u001b[0m\u001b[1;33m\u001b[0m\u001b[0m\n\u001b[1;32m----> 2\u001b[1;33m \u001b[0mm_list\u001b[0m\u001b[1;33m.\u001b[0m\u001b[0mpop\u001b[0m\u001b[1;33m(\u001b[0m\u001b[1;33m)\u001b[0m\u001b[1;33m\u001b[0m\u001b[1;33m\u001b[0m\u001b[0m\n\u001b[0m\u001b[0;32m      3\u001b[0m \u001b[0mm_list\u001b[0m\u001b[1;33m\u001b[0m\u001b[1;33m\u001b[0m\u001b[0m\n",
      "\u001b[1;31mIndexError\u001b[0m: pop from empty list"
     ]
    }
   ],
   "source": [
    "# pop用于移除末尾元素\n",
    "m_list.pop()\n",
    "m_list"
   ]
  },
  {
   "cell_type": "code",
   "execution_count": 68,
   "metadata": {},
   "outputs": [
    {
     "data": {
      "text/plain": [
       "[1, 5]"
      ]
     },
     "execution_count": 68,
     "metadata": {},
     "output_type": "execute_result"
    }
   ],
   "source": [
    "# pop(n)用于移除n位置的元素\n",
    "m_list.pop(1)\n",
    "m_list"
   ]
  },
  {
   "cell_type": "code",
   "execution_count": 74,
   "metadata": {},
   "outputs": [
    {
     "ename": "AttributeError",
     "evalue": "'list' object has no attribute 'move'",
     "output_type": "error",
     "traceback": [
      "\u001b[1;31m---------------------------------------------------------------------------\u001b[0m",
      "\u001b[1;31mAttributeError\u001b[0m                            Traceback (most recent call last)",
      "\u001b[1;32m<ipython-input-74-8b64cf6dccdb>\u001b[0m in \u001b[0;36m<module>\u001b[1;34m\u001b[0m\n\u001b[0;32m      1\u001b[0m \u001b[1;31m# move用于移除特定元素\u001b[0m\u001b[1;33m\u001b[0m\u001b[1;33m\u001b[0m\u001b[1;33m\u001b[0m\u001b[0m\n\u001b[1;32m----> 2\u001b[1;33m \u001b[0mm_list\u001b[0m\u001b[1;33m.\u001b[0m\u001b[0mmove\u001b[0m\u001b[1;33m(\u001b[0m\u001b[1;36m1\u001b[0m\u001b[1;33m)\u001b[0m\u001b[1;33m\u001b[0m\u001b[1;33m\u001b[0m\u001b[0m\n\u001b[0m\u001b[0;32m      3\u001b[0m \u001b[0mm_list\u001b[0m\u001b[1;33m\u001b[0m\u001b[1;33m\u001b[0m\u001b[0m\n",
      "\u001b[1;31mAttributeError\u001b[0m: 'list' object has no attribute 'move'"
     ]
    }
   ],
   "source": [
    "# move用于移除特定元素\n",
    "m_list.move(1)\n",
    "m_list"
   ]
  },
  {
   "cell_type": "markdown",
   "metadata": {},
   "source": [
    "### 3.4.6 列表的更改"
   ]
  },
  {
   "cell_type": "code",
   "execution_count": 75,
   "metadata": {},
   "outputs": [
    {
     "data": {
      "text/plain": [
       "[1, 2, 4]"
      ]
     },
     "execution_count": 75,
     "metadata": {},
     "output_type": "execute_result"
    }
   ],
   "source": [
    "m_list = [1,2,3]\n",
    "m_list[-1] = 4\n",
    "m_list \n",
    "# 列表是可变对象，不定长，定序"
   ]
  },
  {
   "cell_type": "markdown",
   "metadata": {},
   "source": [
    "### 3.4.7 列表排序"
   ]
  },
  {
   "cell_type": "code",
   "execution_count": 76,
   "metadata": {},
   "outputs": [
    {
     "name": "stdout",
     "output_type": "stream",
     "text": [
      "[1, 2, 3, 4, 5, 6, 7]\n",
      "[1, 3, 2, 4, 6, 5, 7]\n"
     ]
    }
   ],
   "source": [
    "m_list = [1,3,2,4,6,5,7]\n",
    "\n",
    "#顺序排列 法1，不修改m_list\n",
    "print(sorted(m_list))\n",
    "print(m_list)"
   ]
  },
  {
   "cell_type": "code",
   "execution_count": 77,
   "metadata": {},
   "outputs": [
    {
     "name": "stdout",
     "output_type": "stream",
     "text": [
      "[1, 2, 3, 4, 5, 6, 7]\n"
     ]
    }
   ],
   "source": [
    "m_list = [1,3,2,4,6,5,7]\n",
    "\n",
    "#顺序排列 法2，修改m_list\n",
    "m_list.sort()\n",
    "print(m_list)"
   ]
  },
  {
   "cell_type": "code",
   "execution_count": 78,
   "metadata": {},
   "outputs": [
    {
     "name": "stdout",
     "output_type": "stream",
     "text": [
      "[7, 6, 5, 4, 3, 2, 1]\n",
      "[1, 3, 2, 4, 6, 5, 7]\n"
     ]
    }
   ],
   "source": [
    "m_list = [1,3,2,4,6,5,7]\n",
    "# 逆序排序 法1，不修改m_list\n",
    "print(sorted(m_list, reverse=True))\n",
    "print(m_list)"
   ]
  },
  {
   "cell_type": "code",
   "execution_count": 79,
   "metadata": {},
   "outputs": [
    {
     "name": "stdout",
     "output_type": "stream",
     "text": [
      "[7, 6, 5, 4, 3, 2, 1]\n"
     ]
    }
   ],
   "source": [
    "m_list = [1,3,2,4,6,5,7]\n",
    "# 逆序排序 法2，修改m_list\n",
    "m_list.sort(reverse=True)\n",
    "print(m_list)"
   ]
  },
  {
   "cell_type": "code",
   "execution_count": 80,
   "metadata": {},
   "outputs": [
    {
     "data": {
      "text/plain": [
       "[7, 5, 6, 4, 2, 3, 1]"
      ]
     },
     "execution_count": 80,
     "metadata": {},
     "output_type": "execute_result"
    }
   ],
   "source": [
    "# 反转 修改m_list\n",
    "m_list = [1,3,2,4,6,5,7]\n",
    "m_list.reverse()\n",
    "m_list"
   ]
  },
  {
   "cell_type": "markdown",
   "metadata": {},
   "source": [
    "### 3.4.8  列表推导式\n",
    "\n",
    "e.g.\n",
    "\n",
    "a_list = [1, 5, 3, 9, 7]\n",
    "\n",
    "b_list = [1, 2, 3, 4, 5]\n",
    "\n",
    "求交集，且按照逆序排序"
   ]
  },
  {
   "cell_type": "code",
   "execution_count": 81,
   "metadata": {},
   "outputs": [
    {
     "name": "stdout",
     "output_type": "stream",
     "text": [
      "[5, 3, 1]\n"
     ]
    }
   ],
   "source": [
    "\n",
    "# 交集：法1\n",
    "a_list = [1, 3, 5, 7, 9]\n",
    "b_list = [1, 2, 3, 4, 5]\n",
    "\n",
    "intersection = []\n",
    "\n",
    "for num in a_list:\n",
    "    if num in b_list:\n",
    "        intersection.append(num)\n",
    "        \n",
    "intersection.sort(reverse=True)\n",
    "\n",
    "print(intersection)"
   ]
  },
  {
   "cell_type": "code",
   "execution_count": 82,
   "metadata": {},
   "outputs": [
    {
     "name": "stdout",
     "output_type": "stream",
     "text": [
      "[5, 3, 1]\n"
     ]
    }
   ],
   "source": [
    "# 交集：法2 —— 列表推导式\n",
    "\n",
    "intersection = [num for num in a_list if num in b_list]\n",
    "intersection.sort(reverse=True)\n",
    "print(intersection)"
   ]
  },
  {
   "cell_type": "markdown",
   "metadata": {},
   "source": [
    "e.g.\n",
    "\n",
    "c_list = [1, 2, 3, 4, 5]\n",
    "\n",
    "生成立方数"
   ]
  },
  {
   "cell_type": "code",
   "execution_count": 83,
   "metadata": {},
   "outputs": [
    {
     "data": {
      "text/plain": [
       "[1, 8, 27, 64, 125]"
      ]
     },
     "execution_count": 83,
     "metadata": {},
     "output_type": "execute_result"
    }
   ],
   "source": [
    "# 法一\n",
    "c_list = [1,2,3,4,5]\n",
    "\n",
    "triple_list = []\n",
    "for num in c_list:\n",
    "    triple_list.append(num ** 3)\n",
    "    \n",
    "triple_list"
   ]
  },
  {
   "cell_type": "code",
   "execution_count": 84,
   "metadata": {},
   "outputs": [
    {
     "data": {
      "text/plain": [
       "[1, 8, 27, 64, 125]"
      ]
     },
     "execution_count": 84,
     "metadata": {},
     "output_type": "execute_result"
    }
   ],
   "source": [
    "# 法二\n",
    "\n",
    "triple_list = [i ** 3 for i in [1,2,3,4,5]]\n",
    "triple_list\n"
   ]
  },
  {
   "cell_type": "markdown",
   "metadata": {},
   "source": [
    "## 3.4 集合：set\n",
    "\n",
    "集合无重复元素\n",
    "### 3.4.1 集合的创建"
   ]
  },
  {
   "cell_type": "code",
   "execution_count": 85,
   "metadata": {},
   "outputs": [
    {
     "name": "stdout",
     "output_type": "stream",
     "text": [
      "set()\n",
      "{1, 2}\n"
     ]
    }
   ],
   "source": [
    "a_set = set()\n",
    "print(a_set)\n",
    "\n",
    "a_set.add(1)\n",
    "a_set.add(2)\n",
    "print(a_set)"
   ]
  },
  {
   "cell_type": "markdown",
   "metadata": {},
   "source": [
    "### 3.4.2 集合内无重复元素"
   ]
  },
  {
   "cell_type": "code",
   "execution_count": 86,
   "metadata": {},
   "outputs": [
    {
     "name": "stdout",
     "output_type": "stream",
     "text": [
      "{1, 2}\n"
     ]
    }
   ],
   "source": [
    "#集合无重复元素\n",
    "a_set.add(2)\n",
    "print(a_set)"
   ]
  },
  {
   "cell_type": "code",
   "execution_count": 87,
   "metadata": {},
   "outputs": [
    {
     "data": {
      "text/plain": [
       "{'h', 'n', 'o', 'p', 't', 'y'}"
      ]
     },
     "execution_count": 87,
     "metadata": {},
     "output_type": "execute_result"
    }
   ],
   "source": [
    "word = 'pythonpython'\n",
    "set(word)"
   ]
  },
  {
   "cell_type": "code",
   "execution_count": 88,
   "metadata": {},
   "outputs": [
    {
     "name": "stdout",
     "output_type": "stream",
     "text": [
      "['p', 'y', 't', 'h', 'o', 'n', 'p', 'y', 't', 'h', 'o', 'n']\n",
      "{'y', 'p', 'h', 'o', 'n', 't'}\n"
     ]
    }
   ],
   "source": [
    "word = 'pythonpython'\n",
    "a_list = list(word)\n",
    "print(a_list)\n",
    "print(set(a_list))"
   ]
  },
  {
   "cell_type": "markdown",
   "metadata": {},
   "source": [
    "说明：set可以用来去重\n",
    "\n",
    "例题：\n",
    "a_list = [1, 5, 3, 9, 7]\n",
    "\n",
    "b_list = [5, 4, 3, 2, 1]\n",
    "\n",
    "求并集，要求以列表展示，且顺序排序"
   ]
  },
  {
   "cell_type": "code",
   "execution_count": 90,
   "metadata": {},
   "outputs": [
    {
     "data": {
      "text/plain": [
       "[1, 2, 3, 4, 5, 7, 9]"
      ]
     },
     "execution_count": 90,
     "metadata": {},
     "output_type": "execute_result"
    }
   ],
   "source": [
    "# 并集\n",
    "\n",
    "a_list = [1,5,3,9,7]\n",
    "b_list = [5,4,3,2,1]\n",
    "union = sorted(list(set(a_list + b_list)))\n",
    "union"
   ]
  },
  {
   "cell_type": "markdown",
   "metadata": {},
   "source": [
    "## 3.5元组：tuple\n",
    "特点：\n",
    "定序，不可变"
   ]
  },
  {
   "cell_type": "markdown",
   "metadata": {},
   "source": [
    "### 3.5.1 元组的创建"
   ]
  },
  {
   "cell_type": "code",
   "execution_count": 91,
   "metadata": {},
   "outputs": [
    {
     "name": "stdout",
     "output_type": "stream",
     "text": [
      "()\n",
      "()\n"
     ]
    }
   ],
   "source": [
    "empty_tuple = tuple()\n",
    "empty_tuple2 = ()\n",
    "print(empty_tuple)\n",
    "print(empty_tuple2)"
   ]
  },
  {
   "cell_type": "code",
   "execution_count": 92,
   "metadata": {},
   "outputs": [
    {
     "name": "stdout",
     "output_type": "stream",
     "text": [
      "(1, 2, 3)\n",
      "(1, 2, 3)\n",
      "('p', 'y', 't', 'h', 'o', 'n')\n"
     ]
    }
   ],
   "source": [
    "print(tuple([1,2,3]))\n",
    "print(tuple(set([1,2,3])))\n",
    "print(tuple('python'))"
   ]
  },
  {
   "cell_type": "markdown",
   "metadata": {},
   "source": [
    "### 3.5.2 元组的切片"
   ]
  },
  {
   "cell_type": "code",
   "execution_count": 93,
   "metadata": {},
   "outputs": [
    {
     "data": {
      "text/plain": [
       "1"
      ]
     },
     "execution_count": 93,
     "metadata": {},
     "output_type": "execute_result"
    }
   ],
   "source": [
    "a_tuple = (1,2,3)\n",
    "a_tuple[0]"
   ]
  },
  {
   "cell_type": "code",
   "execution_count": 94,
   "metadata": {},
   "outputs": [
    {
     "ename": "TypeError",
     "evalue": "'tuple' object does not support item assignment",
     "output_type": "error",
     "traceback": [
      "\u001b[1;31m---------------------------------------------------------------------------\u001b[0m",
      "\u001b[1;31mTypeError\u001b[0m                                 Traceback (most recent call last)",
      "\u001b[1;32m<ipython-input-94-234184514b47>\u001b[0m in \u001b[0;36m<module>\u001b[1;34m\u001b[0m\n\u001b[0;32m      1\u001b[0m \u001b[1;31m# tuple不可变\u001b[0m\u001b[1;33m\u001b[0m\u001b[1;33m\u001b[0m\u001b[1;33m\u001b[0m\u001b[0m\n\u001b[1;32m----> 2\u001b[1;33m \u001b[0ma_tuple\u001b[0m\u001b[1;33m[\u001b[0m\u001b[1;36m0\u001b[0m\u001b[1;33m]\u001b[0m \u001b[1;33m=\u001b[0m \u001b[1;36m4\u001b[0m\u001b[1;33m\u001b[0m\u001b[1;33m\u001b[0m\u001b[0m\n\u001b[0m",
      "\u001b[1;31mTypeError\u001b[0m: 'tuple' object does not support item assignment"
     ]
    }
   ],
   "source": [
    "# tuple不可变\n",
    "a_tuple[0] = 4"
   ]
  },
  {
   "cell_type": "code",
   "execution_count": 96,
   "metadata": {},
   "outputs": [
    {
     "data": {
      "text/plain": [
       "1"
      ]
     },
     "execution_count": 96,
     "metadata": {},
     "output_type": "execute_result"
    }
   ],
   "source": [
    "value1, value2, value3 = a_tuple\n",
    "value1"
   ]
  },
  {
   "cell_type": "code",
   "execution_count": 97,
   "metadata": {},
   "outputs": [
    {
     "name": "stdout",
     "output_type": "stream",
     "text": [
      "[1, 2, 3]\n",
      "(1, 2, 3)\n"
     ]
    }
   ],
   "source": [
    "# list和set之间可以互相转换\n",
    "print(list(a_tuple))\n",
    "print(tuple([1,2,3]))"
   ]
  },
  {
   "cell_type": "markdown",
   "metadata": {},
   "source": [
    "## 3.6 字典：dict\n",
    "特点：\n",
    "可变，键唯一；\n",
    "每一对item以key:value 的形式存在"
   ]
  },
  {
   "cell_type": "markdown",
   "metadata": {},
   "source": [
    "### 3.6.1 字典的创建、查看、修改、添加 "
   ]
  },
  {
   "cell_type": "code",
   "execution_count": 98,
   "metadata": {},
   "outputs": [
    {
     "name": "stdout",
     "output_type": "stream",
     "text": [
      "{}\n",
      "{}\n"
     ]
    }
   ],
   "source": [
    "# 创建空字典\n",
    "empty_dict = {}\n",
    "empty_dict2 = dict()\n",
    "print(empty_dict)\n",
    "print(empty_dict2)"
   ]
  },
  {
   "cell_type": "code",
   "execution_count": 99,
   "metadata": {},
   "outputs": [
    {
     "data": {
      "text/plain": [
       "dict_items([('key1', 1), ('key2', '2'), ('key3', ['a', 'b', 'c'])])"
      ]
     },
     "execution_count": 99,
     "metadata": {},
     "output_type": "execute_result"
    }
   ],
   "source": [
    "a_dict = {\n",
    "'key1':1,\n",
    "'key2': '2',\n",
    "'key3':['a', 'b', 'c']\n",
    "}\n",
    "a_dict.items()"
   ]
  },
  {
   "cell_type": "code",
   "execution_count": 100,
   "metadata": {},
   "outputs": [
    {
     "name": "stdout",
     "output_type": "stream",
     "text": [
      "<class 'tuple'>\n",
      "key is key1 and value is 1\n",
      "<class 'tuple'>\n",
      "key is key2 and value is 2\n",
      "<class 'tuple'>\n",
      "key is key3 and value is ['a', 'b', 'c']\n"
     ]
    }
   ],
   "source": [
    "#dict.items() 返回的键：值配对，以tuple结构存在。\n",
    "for item in a_dict.items():\n",
    "    print(type(item))\n",
    "    key, value = item\n",
    "    print('key is {} and value is {}'.format(key, value))"
   ]
  },
  {
   "cell_type": "code",
   "execution_count": 101,
   "metadata": {},
   "outputs": [
    {
     "data": {
      "text/plain": [
       "{'key1': 'update_value',\n",
       " 'key2': '2',\n",
       " 'key3': ['a', 'b', 'c'],\n",
       " 'key4': 'new_value'}"
      ]
     },
     "execution_count": 101,
     "metadata": {},
     "output_type": "execute_result"
    }
   ],
   "source": [
    "a_dict = {\n",
    "'key1':1,\n",
    "'key2': '2',\n",
    "'key3':['a', 'b', 'c']\n",
    "}\n",
    "# 字典的修改和添加\n",
    "a_dict['key1'] = 'update_value'\n",
    "a_dict['key4'] = 'new_value'\n",
    "a_dict"
   ]
  },
  {
   "cell_type": "code",
   "execution_count": 102,
   "metadata": {},
   "outputs": [
    {
     "name": "stdout",
     "output_type": "stream",
     "text": [
      "['a', 'b', 'c']\n",
      "new_value\n"
     ]
    }
   ],
   "source": [
    "print(a_dict['key3'])\n",
    "print(a_dict['key4'])"
   ]
  },
  {
   "cell_type": "code",
   "execution_count": 103,
   "metadata": {},
   "outputs": [
    {
     "ename": "KeyError",
     "evalue": "'key5'",
     "output_type": "error",
     "traceback": [
      "\u001b[1;31m---------------------------------------------------------------------------\u001b[0m",
      "\u001b[1;31mKeyError\u001b[0m                                  Traceback (most recent call last)",
      "\u001b[1;32m<ipython-input-103-fd56048841a4>\u001b[0m in \u001b[0;36m<module>\u001b[1;34m\u001b[0m\n\u001b[1;32m----> 1\u001b[1;33m \u001b[0ma_dict\u001b[0m\u001b[1;33m[\u001b[0m\u001b[1;34m'key5'\u001b[0m\u001b[1;33m]\u001b[0m\u001b[1;33m\u001b[0m\u001b[1;33m\u001b[0m\u001b[0m\n\u001b[0m",
      "\u001b[1;31mKeyError\u001b[0m: 'key5'"
     ]
    }
   ],
   "source": [
    "a_dict['key5']"
   ]
  },
  {
   "cell_type": "code",
   "execution_count": 104,
   "metadata": {},
   "outputs": [
    {
     "name": "stdout",
     "output_type": "stream",
     "text": [
      "['a', 'b', 'c']\n",
      "new_value\n",
      "None\n"
     ]
    }
   ],
   "source": [
    "print(a_dict.get('key3', None))\n",
    "print(a_dict.get('key4', None))\n",
    "print(a_dict.get('key5', None))"
   ]
  },
  {
   "cell_type": "code",
   "execution_count": 105,
   "metadata": {},
   "outputs": [
    {
     "name": "stdout",
     "output_type": "stream",
     "text": [
      "dict_items([('key1', 'update_value'), ('key2', '2'), ('key3', ['a', 'b', 'c']), ('key4', 'new_value')])\n",
      "dict_keys(['key1', 'key2', 'key3', 'key4'])\n",
      "dict_values(['update_value', '2', ['a', 'b', 'c'], 'new_value'])\n"
     ]
    }
   ],
   "source": [
    "# 返回配对items\n",
    "print(a_dict.items())\n",
    "print(a_dict.keys())\n",
    "print(a_dict.values())"
   ]
  },
  {
   "cell_type": "markdown",
   "metadata": {},
   "source": [
    "### 3.6.2 zip和字典中的item操作\n",
    "e.g.\n",
    "创建一个字典。\n",
    "\n",
    "键分别为 'key1', 'key2', 'key3'\n",
    "\n",
    "值分别为 1, '2', ['a', 'b', 'c']"
   ]
  },
  {
   "cell_type": "code",
   "execution_count": 106,
   "metadata": {},
   "outputs": [
    {
     "data": {
      "text/plain": [
       "{'key1': 1, 'key2': '2', 'key3': ['a', 'b', 'c']}"
      ]
     },
     "execution_count": 106,
     "metadata": {},
     "output_type": "execute_result"
    }
   ],
   "source": [
    "keys =  ['key1', 'key2', 'key3']\n",
    "values = [ 1, '2', ['a', 'b', 'c']]\n",
    "\n",
    "b_dict = dict(zip(keys, values))\n",
    "b_dict"
   ]
  },
  {
   "cell_type": "markdown",
   "metadata": {},
   "source": [
    "prices为五支股票的股价。\n",
    "\n",
    "prices = {\n",
    "'ACME': 45.23,\n",
    "'AAPL': 612.78,\n",
    "'IBM': 205.55,\n",
    "'HPQ': 37.20,\n",
    "'FB': 10.75\n",
    "}\n",
    "\n",
    "1. 求股价最大值、股价最小值\n",
    "\n",
    "2. 求股价最大的股票\n",
    "\n",
    "3. 求股价最大值和对应股票、股价最小值和对应股票\n",
    "\n",
    "4. 将股价和对应股票，根据股价进行顺序排序"
   ]
  },
  {
   "cell_type": "code",
   "execution_count": 107,
   "metadata": {},
   "outputs": [
    {
     "name": "stdout",
     "output_type": "stream",
     "text": [
      "612.78\n",
      "10.75\n"
     ]
    }
   ],
   "source": [
    "# 股价最大值、股价最小值\n",
    "prices = { 'ACME': 45.23, 'AAPL': 612.78, 'IBM': 205.55, 'HPQ': 37.20, 'FB': 10.75 }\n",
    "\n",
    "max_price, min_price = max(prices.values()), min(prices.values())\n",
    "print(max_price)\n",
    "print(min_price)"
   ]
  },
  {
   "cell_type": "code",
   "execution_count": 108,
   "metadata": {},
   "outputs": [
    {
     "name": "stdout",
     "output_type": "stream",
     "text": [
      "AAPL\n"
     ]
    }
   ],
   "source": [
    "# 股价最大的股票\n",
    "prices = { 'ACME': 45.23, 'AAPL': 612.78, 'IBM': 205.55, 'HPQ': 37.20, 'FB': 10.75 }\n",
    "\n",
    "max_stock = max(prices, key=lambda x:prices[x])\n",
    "print(max_stock)\n",
    "#print(prices[max_stock])"
   ]
  },
  {
   "cell_type": "code",
   "execution_count": 109,
   "metadata": {},
   "outputs": [
    {
     "name": "stdout",
     "output_type": "stream",
     "text": [
      "(612.78, 'AAPL')\n",
      "(10.75, 'FB')\n"
     ]
    }
   ],
   "source": [
    "# 求股价最大值和对应股票、股价最小值和对应股票\n",
    "prices = { 'ACME': 45.23, 'AAPL': 612.78, 'IBM': 205.55, 'HPQ': 37.20, 'FB': 10.75 }\n",
    "\n",
    "max_pair = max(zip(prices.values(), prices.keys()))\n",
    "min_pair = min(zip(prices.values(), prices.keys()))\n",
    "print(max_pair)\n",
    "print(min_pair)"
   ]
  },
  {
   "cell_type": "code",
   "execution_count": 110,
   "metadata": {},
   "outputs": [
    {
     "name": "stdout",
     "output_type": "stream",
     "text": [
      "[(10.75, 'FB'), (37.2, 'HPQ'), (45.23, 'ACME'), (205.55, 'IBM'), (612.78, 'AAPL')]\n"
     ]
    }
   ],
   "source": [
    "# 将股价和对应股票，根据股价进行顺序排序\n",
    "prices = { 'ACME': 45.23, 'AAPL': 612.78, 'IBM': 205.55, 'HPQ': 37.20, 'FB': 10.75 }\n",
    "\n",
    "prices_sorted = sorted(zip(prices.values(), prices.keys()))\n",
    "print(prices_sorted)"
   ]
  },
  {
   "cell_type": "markdown",
   "metadata": {},
   "source": [
    "### 3.6.3 字典推导式\n",
    "\n",
    "prices为五支股票的股价。\n",
    "\n",
    "prices = { 'ACME': 45.23, 'AAPL': 612.78, 'IBM': 205.55, 'HPQ': 37.20, 'FB': 10.75 }\n",
    "\n",
    "1. 生成一个{股价：股票}的字典\n",
    "\n",
    "2. 过滤字典中股价大于200的\n",
    "\n",
    "3. 过滤字典中为'APPL'或'IBM'的股票\n",
    "\n"
   ]
  },
  {
   "cell_type": "code",
   "execution_count": 111,
   "metadata": {},
   "outputs": [
    {
     "data": {
      "text/plain": [
       "{45.23: 'ACME', 612.78: 'AAPL', 205.55: 'IBM', 37.2: 'HPQ', 10.75: 'FB'}"
      ]
     },
     "execution_count": 111,
     "metadata": {},
     "output_type": "execute_result"
    }
   ],
   "source": [
    "# 生成一个{股价：股票}的字典\n",
    "prices = { 'ACME': 45.23, 'AAPL': 612.78, 'IBM': 205.55, 'HPQ': 37.20, 'FB': 10.75 }\n",
    "{value:key for key, value in prices.items()}"
   ]
  },
  {
   "cell_type": "code",
   "execution_count": 112,
   "metadata": {},
   "outputs": [
    {
     "data": {
      "text/plain": [
       "{'ACME': 45.23, 'HPQ': 37.2, 'FB': 10.75}"
      ]
     },
     "execution_count": 112,
     "metadata": {},
     "output_type": "execute_result"
    }
   ],
   "source": [
    "# 过滤股价大于200的\n",
    "prices = { 'ACME': 45.23, 'AAPL': 612.78, 'IBM': 205.55, 'HPQ': 37.20, 'FB': 10.75 }\n",
    "\n",
    "{key:value for key,value in prices.items() if value <= 200}"
   ]
  },
  {
   "cell_type": "code",
   "execution_count": 113,
   "metadata": {},
   "outputs": [
    {
     "data": {
      "text/plain": [
       "{'ACME': 45.23, 'HPQ': 37.2, 'FB': 10.75}"
      ]
     },
     "execution_count": 113,
     "metadata": {},
     "output_type": "execute_result"
    }
   ],
   "source": [
    "# 过滤股票为AAPL或IBM的 \n",
    "prices = { 'ACME': 45.23, 'AAPL': 612.78, 'IBM': 205.55, 'HPQ': 37.20, 'FB': 10.75 }\n",
    "\n",
    "{key:value for key,value in prices.items() if key not in ['AAPL','IBM']}"
   ]
  },
  {
   "cell_type": "markdown",
   "metadata": {},
   "source": [
    "### 3.6.4 字典用于统计和defaultdict"
   ]
  },
  {
   "cell_type": "markdown",
   "metadata": {},
   "source": [
    "给定一个字符串 'abccdaddcbbb'\n",
    "\n",
    "统计字母频数"
   ]
  },
  {
   "cell_type": "code",
   "execution_count": 114,
   "metadata": {},
   "outputs": [
    {
     "name": "stdout",
     "output_type": "stream",
     "text": [
      "{'a': 2, 'b': 4, 'c': 3, 'd': 3}\n"
     ]
    }
   ],
   "source": [
    "string =  'abccdaddcbbb'\n",
    "\n",
    "# 法1\n",
    "collection = {}\n",
    "for s in string:\n",
    "    if s not in collection:\n",
    "        collection[s] = 1\n",
    "    else:\n",
    "        collection[s] += 1\n",
    "print(collection)"
   ]
  },
  {
   "cell_type": "code",
   "execution_count": 115,
   "metadata": {},
   "outputs": [
    {
     "name": "stdout",
     "output_type": "stream",
     "text": [
      "defaultdict(<class 'int'>, {'a': 2, 'b': 4, 'c': 3, 'd': 3})\n"
     ]
    }
   ],
   "source": [
    "# 法2：defaultdict → 无需人工设定初始值。int初始值为0，list初始值为[]\n",
    "\n",
    "from collections import defaultdict\n",
    "\n",
    "collection2 = defaultdict(int)\n",
    "\n",
    "for s in string:\n",
    "    collection2[s] += 1\n",
    "print(collection2)"
   ]
  },
  {
   "cell_type": "markdown",
   "metadata": {},
   "source": [
    "pairs = [('a', 1), ('a',2), ('a',3), ('b',4),('b',5), ('c',6)]\n",
    "\n",
    "生成字典：\n",
    "{\n",
    "'a':[1,2,3],\n",
    "'b':[4,5],\n",
    "'c':[6]\n",
    "}"
   ]
  },
  {
   "cell_type": "code",
   "execution_count": 116,
   "metadata": {},
   "outputs": [
    {
     "data": {
      "text/plain": [
       "{'a': [1, 2, 3], 'b': [4, 5], 'c': [6]}"
      ]
     },
     "execution_count": 116,
     "metadata": {},
     "output_type": "execute_result"
    }
   ],
   "source": [
    "pairs = [('a', 1), ('a',2), ('a',3), ('b',4),('b',5), ('c',6)]\n",
    "#法1\n",
    "d = {}\n",
    "\n",
    "for key, value in pairs:\n",
    "    if key not in d:\n",
    "        d[key] = []\n",
    "    d[key].append(value)\n",
    "d"
   ]
  },
  {
   "cell_type": "code",
   "execution_count": 117,
   "metadata": {},
   "outputs": [
    {
     "data": {
      "text/plain": [
       "defaultdict(list, {'a': [1, 2, 3], 'b': [4, 5], 'c': [6]})"
      ]
     },
     "execution_count": 117,
     "metadata": {},
     "output_type": "execute_result"
    }
   ],
   "source": [
    "pairs = [('a', 1), ('a',2), ('a',3), ('b',4),('b',5), ('c',6)]\n",
    "#法1\n",
    "\n",
    "from collections import defaultdict\n",
    "\n",
    "d2 = defaultdict(list)\n",
    "\n",
    "for key, value in pairs:\n",
    "    d2[key].append(value)\n",
    "d2"
   ]
  },
  {
   "cell_type": "markdown",
   "metadata": {},
   "source": [
    "## 四、函数与逻辑判断"
   ]
  },
  {
   "cell_type": "markdown",
   "metadata": {},
   "source": [
    "### 4.1 def 和 if elif else"
   ]
  },
  {
   "cell_type": "code",
   "execution_count": 118,
   "metadata": {},
   "outputs": [],
   "source": [
    "#函数：判断整数是否为奇数；如果整数为0，则返回0\n",
    "\n",
    "def isOdd(num:int):\n",
    "    \n",
    "    if num == 0:\n",
    "        return 0\n",
    "    elif num % 2  :\n",
    "        return True\n",
    "    else:\n",
    "        return False"
   ]
  },
  {
   "cell_type": "code",
   "execution_count": 119,
   "metadata": {},
   "outputs": [
    {
     "name": "stdout",
     "output_type": "stream",
     "text": [
      "0\n",
      "True\n",
      "False\n",
      "True\n"
     ]
    }
   ],
   "source": [
    "print(isOdd(0))\n",
    "print(isOdd(1))\n",
    "print(isOdd(2))\n",
    "print(isOdd(3))"
   ]
  },
  {
   "cell_type": "markdown",
   "metadata": {},
   "source": [
    "### 4.2 while, break"
   ]
  },
  {
   "cell_type": "markdown",
   "metadata": {},
   "source": [
    "构建一个函数，打印1至n(n>1)的平方数"
   ]
  },
  {
   "cell_type": "code",
   "execution_count": 120,
   "metadata": {},
   "outputs": [
    {
     "name": "stdout",
     "output_type": "stream",
     "text": [
      "1\n",
      "4\n",
      "9\n",
      "16\n",
      "25\n"
     ]
    }
   ],
   "source": [
    "# 法1 while判断\n",
    "\n",
    "def square_1(n):\n",
    "    k = 1\n",
    "    while k <= n:\n",
    "        print(k*k)\n",
    "        k += 1\n",
    "        \n",
    "square_1(5)"
   ]
  },
  {
   "cell_type": "code",
   "execution_count": 121,
   "metadata": {},
   "outputs": [
    {
     "name": "stdout",
     "output_type": "stream",
     "text": [
      "1\n",
      "4\n",
      "9\n",
      "16\n",
      "25\n"
     ]
    }
   ],
   "source": [
    "# 法2 while True,用break停止循环\n",
    "def square_2(n):\n",
    "    k = 1\n",
    "    while True:\n",
    "        print(k*k)\n",
    "        k += 1\n",
    "        \n",
    "        if k > n:\n",
    "            break\n",
    "square_2(5)       "
   ]
  },
  {
   "cell_type": "markdown",
   "metadata": {},
   "source": [
    "### 4.3 异常管理： try except finally\n",
    "\n",
    "try:\n",
    "\n",
    "    尝试性操作\n",
    "    \n",
    "except:\n",
    "\n",
    "    如try步骤报错，则执行except步骤\n",
    "    \n",
    "else:\n",
    "\n",
    "    如try步骤不报错，则执行else步骤\n",
    "    \n",
    "finally:\n",
    "\n",
    "    不管try步骤是否报错，均执行finally步骤\n",
    "    "
   ]
  },
  {
   "cell_type": "markdown",
   "metadata": {},
   "source": [
    "values = ['1', '2', '-3', '-', '4', 'N/A', '5']\n",
    "\n",
    "返回一个新的列表，里面包含可以转换为整数的字符串"
   ]
  },
  {
   "cell_type": "code",
   "execution_count": 123,
   "metadata": {},
   "outputs": [
    {
     "name": "stdout",
     "output_type": "stream",
     "text": [
      "['1', '2', '-3', '4', '5']\n"
     ]
    }
   ],
   "source": [
    "values = ['1', '2', '-3', '-', '4', 'N/A', '5']\n",
    "\n",
    "def is_int(val):\n",
    "    try:\n",
    "        x = int(val)\n",
    "        return True\n",
    "    except ValueError:\n",
    "        return False\n",
    "\n",
    "ivals = list(filter(is_int, values))\n",
    "print(ivals)\n",
    "# Outputs ['1', '2', '-3', '4', '5']"
   ]
  },
  {
   "cell_type": "markdown",
   "metadata": {},
   "source": [
    "### 4.4 函数式编程：\n",
    "匿名函数\n",
    "\n",
    "高阶函数： map, reduce, filter, sorted"
   ]
  },
  {
   "cell_type": "markdown",
   "metadata": {},
   "source": [
    "### 4.4.1 匿名函数\n",
    "\n",
    "多用于临时使用，以lambda x（单参数） 或 lambda x,y,z...（多参数）格式\n"
   ]
  },
  {
   "cell_type": "code",
   "execution_count": 124,
   "metadata": {},
   "outputs": [
    {
     "name": "stdout",
     "output_type": "stream",
     "text": [
      "False\n",
      "True\n",
      "False\n",
      "True\n"
     ]
    }
   ],
   "source": [
    "#匿名函数，判断是否为奇数\n",
    "isOdd_2 = lambda x: x % 2 == 1\n",
    "\n",
    "print(isOdd_2(0))\n",
    "print(isOdd_2(1))\n",
    "print(isOdd_2(2))\n",
    "print(isOdd_2(3))"
   ]
  },
  {
   "cell_type": "code",
   "execution_count": 125,
   "metadata": {},
   "outputs": [
    {
     "name": "stdout",
     "output_type": "stream",
     "text": [
      "0\n",
      "True\n",
      "False\n",
      "True\n"
     ]
    }
   ],
   "source": [
    "#匿名函数，判断是否为奇数，但若是0则返回0\n",
    "isOdd_3 = lambda x: 0 if x ==0 else x % 2 == 1\n",
    "print(isOdd_3(0))\n",
    "print(isOdd_3(1))\n",
    "print(isOdd_3(2))\n",
    "print(isOdd_3(3))"
   ]
  },
  {
   "cell_type": "markdown",
   "metadata": {},
   "source": [
    "### 4.4.2 filter函数"
   ]
  },
  {
   "cell_type": "markdown",
   "metadata": {},
   "source": [
    "####  知识点： 生成器与迭代器\n",
    "通过列表生成式，我们可以直接创建一个列表。但是，受到内存限制，列表容量肯定是有限的。而且，创建一个包含100万个元素的列表，不仅占用很大的存储空间，如果我们仅仅需要访问前面几个元素，那后面绝大多数元素占用的空间都白白浪费了。\n",
    "\n",
    "所以，如果列表元素可以按照某种算法推算出来，那我们是否可以在循环的过程中不断推算出后续的元素呢？这样就不必创建完整的list，从而节省大量的空间。在Python中，这种一边循环一边计算的机制，称为生成器：generator。\n",
    "\n",
    "要创建一个generator，有很多种方法。第一种方法很简单，只要把一个列表生成式的[]改成()，就创建了一个generator"
   ]
  },
  {
   "cell_type": "markdown",
   "metadata": {},
   "source": [
    "#### 生成器：generator"
   ]
  },
  {
   "cell_type": "code",
   "execution_count": 126,
   "metadata": {},
   "outputs": [
    {
     "data": {
      "text/plain": [
       "[0, 1, 4, 9, 16]"
      ]
     },
     "execution_count": 126,
     "metadata": {},
     "output_type": "execute_result"
    }
   ],
   "source": [
    "L = [x * x for x in range(5)]\n",
    "L"
   ]
  },
  {
   "cell_type": "code",
   "execution_count": 127,
   "metadata": {},
   "outputs": [
    {
     "data": {
      "text/plain": [
       "<generator object <genexpr> at 0x0000018F4C8B5ED0>"
      ]
     },
     "execution_count": 127,
     "metadata": {},
     "output_type": "execute_result"
    }
   ],
   "source": [
    "# 创建生成器\n",
    "g = (x * x for x in range(5))\n",
    "g"
   ]
  },
  {
   "cell_type": "code",
   "execution_count": 130,
   "metadata": {},
   "outputs": [
    {
     "data": {
      "text/plain": [
       "4"
      ]
     },
     "execution_count": 130,
     "metadata": {},
     "output_type": "execute_result"
    }
   ],
   "source": [
    "# 生成器性质一：next\n",
    "next(g)"
   ]
  },
  {
   "cell_type": "code",
   "execution_count": 131,
   "metadata": {},
   "outputs": [
    {
     "name": "stdout",
     "output_type": "stream",
     "text": [
      "0\n",
      "1\n",
      "4\n",
      "9\n",
      "16\n"
     ]
    }
   ],
   "source": [
    "# 生成器性质二：for循环\n",
    "g = (x * x for x in range(5))\n",
    "for num in g:\n",
    "    print(num)"
   ]
  },
  {
   "cell_type": "code",
   "execution_count": 132,
   "metadata": {},
   "outputs": [
    {
     "name": "stdout",
     "output_type": "stream",
     "text": [
      "{0, 1, 4, 9, 16}\n",
      "[0, 1, 4, 9, 16]\n"
     ]
    }
   ],
   "source": [
    "# 生成器性质三：可转其他序列\n",
    "g = (x * x for x in range(5))\n",
    "print(set(g))\n",
    "\n",
    "g = (x * x for x in range(5))\n",
    "print(list(g))"
   ]
  },
  {
   "cell_type": "markdown",
   "metadata": {},
   "source": [
    "构建一个生成器，里面包含1至n的平方数（n>1)。"
   ]
  },
  {
   "cell_type": "code",
   "execution_count": 133,
   "metadata": {},
   "outputs": [
    {
     "name": "stdout",
     "output_type": "stream",
     "text": [
      "1\n",
      "4\n",
      "9\n",
      "16\n",
      "25\n"
     ]
    }
   ],
   "source": [
    "# 回顾：一次性打印所有\n",
    "def square(n:int):\n",
    "    k = 1\n",
    "    while k <= n:\n",
    "        print(k * k)\n",
    "        k += 1\n",
    "square(5)"
   ]
  },
  {
   "cell_type": "code",
   "execution_count": 134,
   "metadata": {},
   "outputs": [],
   "source": [
    "# 生成器：yield方法\n",
    "def square_gen(n:int):\n",
    "    k = 1\n",
    "    while k <= n:\n",
    "        yield(k * k)\n",
    "        k += 1\n",
    "        \n",
    "gen_temp = square_gen(5)"
   ]
  },
  {
   "cell_type": "code",
   "execution_count": 135,
   "metadata": {},
   "outputs": [
    {
     "data": {
      "text/plain": [
       "generator"
      ]
     },
     "execution_count": 135,
     "metadata": {},
     "output_type": "execute_result"
    }
   ],
   "source": [
    "type(gen_temp)"
   ]
  },
  {
   "cell_type": "code",
   "execution_count": 137,
   "metadata": {},
   "outputs": [
    {
     "data": {
      "text/plain": [
       "4"
      ]
     },
     "execution_count": 137,
     "metadata": {},
     "output_type": "execute_result"
    }
   ],
   "source": [
    "next(gen_temp)"
   ]
  },
  {
   "cell_type": "code",
   "execution_count": 138,
   "metadata": {},
   "outputs": [
    {
     "name": "stdout",
     "output_type": "stream",
     "text": [
      "[1, 4, 9, 16, 25]\n",
      "[1, 4, 9, 16, 25]\n"
     ]
    }
   ],
   "source": [
    "gen_temp = square_gen(5)\n",
    "print(list(gen_temp))\n",
    "\n",
    "gen_temp2 = (i*i for i in range(1,6))\n",
    "print(list(gen_temp2))"
   ]
  },
  {
   "cell_type": "markdown",
   "metadata": {},
   "source": [
    "#### 迭代器 Iterator\n",
    "\n",
    "我们已经知道，可以直接作用于for循环的数据类型有以下几种：\n",
    "\n",
    "一类是集合数据类型，如list、tuple、dict、set、str等；\n",
    "\n",
    "一类是generator，包括生成器和带yield的generator function。\n",
    "\n",
    "这些可以直接作用于for循环的对象统称为可迭代对象：Iterable。\n",
    "\n",
    "而生成器不但可以作用于for循环，还可以被next()函数不断调用并返回下一个值，直到最后抛出StopIteration错误表示无法继续返回下一个值了。\n",
    "\n",
    "可以被next()函数调用并不断返回下一个值的对象称为迭代器：Iterator。"
   ]
  },
  {
   "cell_type": "markdown",
   "metadata": {},
   "source": [
    "可迭代对象特征是，可以用for循环。\n",
    "迭代器特征是，可以使用next()函数调用。\n",
    "\n",
    "1. list, tuple, dict, set, str是可迭代对象，但不是迭代器。因为可以使用for循环，但是不可以使用next调用。\n",
    "\n",
    "2. 生成器generator既是可迭代对象，又是迭代器。因为可以使用for和next。\n",
    "\n",
    "3. 要使list, tuple, dict, set, str变为迭代器，可使用iter函数。"
   ]
  },
  {
   "cell_type": "code",
   "execution_count": 139,
   "metadata": {},
   "outputs": [
    {
     "name": "stdout",
     "output_type": "stream",
     "text": [
      "True\n",
      "False\n",
      "True\n"
     ]
    },
    {
     "name": "stderr",
     "output_type": "stream",
     "text": [
      "E:\\Anaconda3\\lib\\site-packages\\ipykernel_launcher.py:1: DeprecationWarning: Using or importing the ABCs from 'collections' instead of from 'collections.abc' is deprecated, and in 3.8 it will stop working\n",
      "  \"\"\"Entry point for launching an IPython kernel.\n"
     ]
    }
   ],
   "source": [
    "from collections import Iterator, Iterable\n",
    "\n",
    "# 列表是可迭代对象，不是迭代器\n",
    "print(isinstance([], Iterable))\n",
    "print(isinstance([], Iterator))\n",
    "print(isinstance(iter([1,2,3]), Iterator))"
   ]
  },
  {
   "cell_type": "code",
   "execution_count": 140,
   "metadata": {},
   "outputs": [
    {
     "name": "stdout",
     "output_type": "stream",
     "text": [
      "True\n",
      "True\n"
     ]
    }
   ],
   "source": [
    "from collections import Iterator, Iterable\n",
    "\n",
    "gen = (i**2 for i in range(5))\n",
    "\n",
    "# 生成器既是迭代器，又是可迭代对象\n",
    "print(isinstance(gen, Iterable))\n",
    "print(isinstance(gen, Iterator))"
   ]
  },
  {
   "cell_type": "markdown",
   "metadata": {},
   "source": [
    "### filter：本质是一个迭代器\n",
    "\n",
    "filter(函数，序列），只返回序列内能使函数返回True的元素。\n",
    "\n",
    "e.g. 返回一个列表，里面包含1至10的奇数。"
   ]
  },
  {
   "cell_type": "code",
   "execution_count": 141,
   "metadata": {},
   "outputs": [
    {
     "name": "stdout",
     "output_type": "stream",
     "text": [
      "[1, 3, 5, 7, 9]\n"
     ]
    }
   ],
   "source": [
    "numbers = range(1, 11)\n",
    "odd_list = list(filter(lambda x: x%2 == 1,  numbers))\n",
    "print(odd_list)"
   ]
  },
  {
   "cell_type": "code",
   "execution_count": 142,
   "metadata": {},
   "outputs": [],
   "source": [
    "a = filter(lambda x: x%2 == 1,  numbers)"
   ]
  },
  {
   "cell_type": "code",
   "execution_count": 143,
   "metadata": {},
   "outputs": [
    {
     "data": {
      "text/plain": [
       "<filter at 0x18f4c8d9198>"
      ]
     },
     "execution_count": 143,
     "metadata": {},
     "output_type": "execute_result"
    }
   ],
   "source": [
    "a"
   ]
  },
  {
   "cell_type": "code",
   "execution_count": 146,
   "metadata": {},
   "outputs": [
    {
     "data": {
      "text/plain": [
       "5"
      ]
     },
     "execution_count": 146,
     "metadata": {},
     "output_type": "execute_result"
    }
   ],
   "source": [
    "# filter本质是一个迭代器，所以要用list转换，把值全部显示出来\n",
    "next(a)"
   ]
  },
  {
   "cell_type": "markdown",
   "metadata": {},
   "source": [
    "e.g. 使用yield，模拟filter函数"
   ]
  },
  {
   "cell_type": "code",
   "execution_count": 147,
   "metadata": {},
   "outputs": [],
   "source": [
    "# 模拟filter函数\n",
    "def filter_simulate(func, seq):\n",
    "    for i in seq:\n",
    "        if func(i):\n",
    "            yield i"
   ]
  },
  {
   "cell_type": "code",
   "execution_count": 148,
   "metadata": {},
   "outputs": [
    {
     "data": {
      "text/plain": [
       "[1, 3, 5, 7, 9]"
      ]
     },
     "execution_count": 148,
     "metadata": {},
     "output_type": "execute_result"
    }
   ],
   "source": [
    "func = lambda x: x%2 == 1\n",
    "gen2 = filter_simulate(func, numbers)\n",
    "list(gen2)"
   ]
  },
  {
   "cell_type": "markdown",
   "metadata": {},
   "source": [
    "### 4.4.3 map函数\n",
    "\n",
    "对可循环序列中的每一个值进行函数映射\n",
    "\n",
    "map(函数，序列)\n",
    "\n",
    "\n",
    "e.g.\n",
    "判断1-10，每一个自然数是否为奇数"
   ]
  },
  {
   "cell_type": "code",
   "execution_count": 149,
   "metadata": {},
   "outputs": [
    {
     "data": {
      "text/plain": [
       "[1, 2, 3, 4, 5, 6, 7, 8, 9, 10]"
      ]
     },
     "execution_count": 149,
     "metadata": {},
     "output_type": "execute_result"
    }
   ],
   "source": [
    "numbers = list(range(1, 11))\n",
    "numbers"
   ]
  },
  {
   "cell_type": "code",
   "execution_count": 150,
   "metadata": {},
   "outputs": [
    {
     "data": {
      "text/plain": [
       "[True, False, True, False, True, False, True, False, True, False]"
      ]
     },
     "execution_count": 150,
     "metadata": {},
     "output_type": "execute_result"
    }
   ],
   "source": [
    "def isOdd(num):\n",
    "    return num % 2 == 1\n",
    "\n",
    "list(map(isOdd, numbers))"
   ]
  },
  {
   "cell_type": "markdown",
   "metadata": {},
   "source": [
    "### 4.4.4. reduce\n",
    "在 Python3 中，reduce() 函数已经被从全局名字空间里移除了，它现在被放置在 functools 模块里，如果想要使用它，则需要通过引入 functools 模块来调用 reduce() 函数"
   ]
  },
  {
   "cell_type": "code",
   "execution_count": 153,
   "metadata": {},
   "outputs": [
    {
     "name": "stdout",
     "output_type": "stream",
     "text": [
      "5050\n",
      "[1, 2, 3, 4, 5, 6, 7, 8, 9, 10, 11, 12, 13, 14, 15, 16, 17, 18, 19, 20, 21, 22, 23, 24, 25, 26, 27, 28, 29, 30, 31, 32, 33, 34, 35, 36, 37, 38, 39, 40, 41, 42, 43, 44, 45, 46, 47, 48, 49, 50, 51, 52, 53, 54, 55, 56, 57, 58, 59, 60, 61, 62, 63, 64, 65, 66, 67, 68, 69, 70, 71, 72, 73, 74, 75, 76, 77, 78, 79, 80, 81, 82, 83, 84, 85, 86, 87, 88, 89, 90, 91, 92, 93, 94, 95, 96, 97, 98, 99, 100]\n"
     ]
    }
   ],
   "source": [
    "from functools import reduce\n",
    "\n",
    "def add(x,y):\n",
    "    return x + y\n",
    "\n",
    "print (reduce(add, range(1, 101)))\n",
    "print(list(range(1,101)))"
   ]
  },
  {
   "cell_type": "markdown",
   "metadata": {},
   "source": [
    "## 五、文件夹操作与文件IO"
   ]
  },
  {
   "cell_type": "markdown",
   "metadata": {},
   "source": [
    "### 5.1 OS库：操作文件夹"
   ]
  },
  {
   "cell_type": "code",
   "execution_count": 154,
   "metadata": {},
   "outputs": [
    {
     "data": {
      "text/plain": [
       "['.ipynb_checkpoints',\n",
       " 'data',\n",
       " 'data.xlsx',\n",
       " 'Python-2020年2月.ipynb',\n",
       " 'Untitled.ipynb',\n",
       " '文件一.ipynb']"
      ]
     },
     "execution_count": 154,
     "metadata": {},
     "output_type": "execute_result"
    }
   ],
   "source": [
    "import os\n",
    "# 列出路径下的文件夹或文件名\n",
    "root = \"C:/Users/acer/Desktop/Python-RDS_20200214\"\n",
    "os.listdir(root)"
   ]
  },
  {
   "cell_type": "code",
   "execution_count": 155,
   "metadata": {},
   "outputs": [
    {
     "data": {
      "text/plain": [
       "'C:/Users/acer/Desktop/Python-RDS_20200214\\\\os'"
      ]
     },
     "execution_count": 155,
     "metadata": {},
     "output_type": "execute_result"
    }
   ],
   "source": [
    "# 构建路径\n",
    "a_path = os.path.join(root, 'os')\n",
    "a_path"
   ]
  },
  {
   "cell_type": "code",
   "execution_count": 156,
   "metadata": {},
   "outputs": [
    {
     "data": {
      "text/plain": [
       "False"
      ]
     },
     "execution_count": 156,
     "metadata": {},
     "output_type": "execute_result"
    }
   ],
   "source": [
    "# 判断某路径是否存在\n",
    "os.path.exists(a_path)"
   ]
  },
  {
   "cell_type": "code",
   "execution_count": 157,
   "metadata": {},
   "outputs": [],
   "source": [
    "# 创建文件夹\n",
    "os.makedirs(a_path)"
   ]
  },
  {
   "cell_type": "markdown",
   "metadata": {},
   "source": [
    "e.g.\n",
    "\n",
    "构建一个函数，在根路径下创建一系列文件夹，文件夹名以列表存在。\n",
    "\n",
    "如果该文件夹已存在，则不创建。"
   ]
  },
  {
   "cell_type": "code",
   "execution_count": 158,
   "metadata": {},
   "outputs": [],
   "source": [
    "def create_dirs(root:str, dir_names:list):\n",
    "    for temp_dir in dir_names:\n",
    "        dir_path = os.path.join(root, temp_dir)\n",
    "        if not os.path.exists(dir_path):\n",
    "            print('创建文件夹: {}'.format(dir_path))\n",
    "            os.makedirs(dir_path)\n",
    "    "
   ]
  },
  {
   "cell_type": "code",
   "execution_count": 159,
   "metadata": {},
   "outputs": [
    {
     "name": "stdout",
     "output_type": "stream",
     "text": [
      "创建文件夹: C:/Users/acer/Desktop/Python-RDS_20200214/os\\文件夹\n",
      "创建文件夹: C:/Users/acer/Desktop/Python-RDS_20200214/os\\另一个文件夹\n"
     ]
    }
   ],
   "source": [
    "root = 'C:/Users/acer/Desktop/Python-RDS_20200214/os'\n",
    "dir_names = ['文件夹','另一个文件夹']\n",
    "\n",
    "create_dirs(root, dir_names)"
   ]
  },
  {
   "cell_type": "markdown",
   "metadata": {},
   "source": [
    "给定路径下，\n",
    "\n",
    "文件夹\"2020年1月\"：file_1.csv\n",
    "\n",
    "文件夹\"2020年2月\"：file_1.csv, file_2.csv\n",
    "\n",
    "文件夹\"2020年3月\":file_1.csv, file_2.csv, file_3.csv, note.txt\n",
    "\n",
    "求所有的csv文件名"
   ]
  },
  {
   "cell_type": "code",
   "execution_count": 160,
   "metadata": {},
   "outputs": [],
   "source": [
    "import os\n",
    "\n",
    "def get_csv_filenames(path):\n",
    "    dirs = os.listdir(path)\n",
    "    \n",
    "    filenames = []\n",
    "    for d in dirs:\n",
    "        filenames += os.listdir(os.path.join(path, d))\n",
    "    csv_filenames = [fn for fn in filenames if fn.endswith('csv')]\n",
    "    return sorted(set(csv_filenames))"
   ]
  },
  {
   "cell_type": "code",
   "execution_count": 161,
   "metadata": {},
   "outputs": [
    {
     "data": {
      "text/plain": [
       "['file_1.csv', 'file_2.csv', 'file_3.csv']"
      ]
     },
     "execution_count": 161,
     "metadata": {},
     "output_type": "execute_result"
    }
   ],
   "source": [
    "path =  'C:/Users/acer/Desktop/Python-RDS_20200214/data/files'\n",
    "get_csv_filenames(path)"
   ]
  },
  {
   "cell_type": "markdown",
   "metadata": {},
   "source": [
    "### 5.2 读取txt json csv xlsx xls "
   ]
  },
  {
   "cell_type": "markdown",
   "metadata": {},
   "source": [
    "#### 5.2.1 txt 读取与写入"
   ]
  },
  {
   "cell_type": "code",
   "execution_count": 162,
   "metadata": {},
   "outputs": [
    {
     "name": "stdout",
     "output_type": "stream",
     "text": [
      "ROW2: Hello, world!\n",
      "THIRD ROW\n",
      "\tend\n"
     ]
    }
   ],
   "source": [
    "# 读取txt\n",
    "with open('C:/Users/acer/Desktop/Python-RDS_20200214/data/read/file.txt', 'r', encoding='gbk') as f:\n",
    "    print(f.read())"
   ]
  },
  {
   "cell_type": "code",
   "execution_count": 163,
   "metadata": {},
   "outputs": [],
   "source": [
    "# 写入txt\n",
    "f = open('C:/Users/acer/Desktop/Python-RDS_20200214/data/read/file.txt', 'w', encoding='gbk')\n",
    "f.write('ROW2: Hello, world!')\n",
    "f.write('\\n')\n",
    "f.write('THIRD ROW')\n",
    "f.write('\\n\\tend')\n",
    "f.close()"
   ]
  },
  {
   "cell_type": "markdown",
   "metadata": {},
   "source": [
    "#### 5.2.2 使用pandas 读取、保存csv txt xlsx xls"
   ]
  },
  {
   "cell_type": "code",
   "execution_count": 166,
   "metadata": {},
   "outputs": [],
   "source": [
    "import pandas as pd\n",
    "\n",
    "path = 'C:/Users/acer/Desktop/Python-RDS_20200214/data/read/'\n",
    "\n",
    "#csv\n",
    "filename = \"data.csv\"\n",
    "df = pd.read_csv(os.path.join(path, filename), header=0, engine='python')\n",
    "\n",
    "df.to_csv(os.path.join(path, 'data2.csv'), index=False)"
   ]
  },
  {
   "cell_type": "code",
   "execution_count": 167,
   "metadata": {},
   "outputs": [],
   "source": [
    "# txt\n",
    "filename = os.path.join(path, 'data.txt')\n",
    "df= pd.read_csv(filename, sep=',')\n",
    "df.to_csv(os.path.join(path, 'data2.txt'), sep='|', index=False)"
   ]
  },
  {
   "cell_type": "code",
   "execution_count": 168,
   "metadata": {},
   "outputs": [],
   "source": [
    "# xlsx xls\n",
    "filename = os.path.join(path, 'data.xlsx')\n",
    "df = pd.read_excel(filename, header=0)\n",
    "\n",
    "df.to_excel(os.path.join(path, 'data2.xlsx'))"
   ]
  },
  {
   "cell_type": "code",
   "execution_count": null,
   "metadata": {},
   "outputs": [],
   "source": [
    "def read_tables(filename, sep=\",\"):\n",
    "    import pandas as pd\n",
    "    \n",
    "    if filename.endswith('.csv'):\n",
    "        return pd.read_csv(filename, header=0, engine='python')\n",
    "    elif filename.endswith('.txt'):\n",
    "        return pd.read_csv(filename, sep=sep)\n",
    "    elif filename.endswith('xlsx') or filename.endswith('xls'):\n",
    "        return pd.read_excel(filename, header=0)\n",
    "    else:\n",
    "        raise TypeError('File type is not available.')"
   ]
  },
  {
   "cell_type": "markdown",
   "metadata": {},
   "source": [
    "# 六、面向对象编程"
   ]
  },
  {
   "cell_type": "markdown",
   "metadata": {},
   "source": [
    "### 6.1 类的创建、实例的创建"
   ]
  },
  {
   "cell_type": "code",
   "execution_count": 169,
   "metadata": {},
   "outputs": [],
   "source": [
    "class Student(object):\n",
    "    pass"
   ]
  },
  {
   "cell_type": "code",
   "execution_count": 170,
   "metadata": {},
   "outputs": [
    {
     "data": {
      "text/plain": [
       "__main__.Student"
      ]
     },
     "execution_count": 170,
     "metadata": {},
     "output_type": "execute_result"
    }
   ],
   "source": [
    "Student"
   ]
  },
  {
   "cell_type": "markdown",
   "metadata": {},
   "source": [
    "通过定义一个特殊的__init__方法，在创建实例的时候，就把name，score等属性绑上去："
   ]
  },
  {
   "cell_type": "code",
   "execution_count": 171,
   "metadata": {},
   "outputs": [],
   "source": [
    "class Student(object):\n",
    "    class_name = 'Student'\n",
    "    \n",
    "    def __init__(self, name, score):\n",
    "        self.name = name\n",
    "        self.score = score"
   ]
  },
  {
   "cell_type": "code",
   "execution_count": 173,
   "metadata": {},
   "outputs": [
    {
     "data": {
      "text/plain": [
       "'Student'"
      ]
     },
     "execution_count": 173,
     "metadata": {},
     "output_type": "execute_result"
    }
   ],
   "source": [
    "xiaoming = Student('Xiaoming', 95)\n",
    "xiaoming.class_name"
   ]
  },
  {
   "cell_type": "code",
   "execution_count": 174,
   "metadata": {},
   "outputs": [
    {
     "data": {
      "text/plain": [
       "'Xiaoming'"
      ]
     },
     "execution_count": 174,
     "metadata": {},
     "output_type": "execute_result"
    }
   ],
   "source": [
    "xiaoming.name"
   ]
  },
  {
   "cell_type": "markdown",
   "metadata": {},
   "source": [
    "添加其他动作"
   ]
  },
  {
   "cell_type": "code",
   "execution_count": 175,
   "metadata": {},
   "outputs": [
    {
     "name": "stdout",
     "output_type": "stream",
     "text": [
      "Lisa A\n",
      "Bart C\n",
      "Student Student\n"
     ]
    }
   ],
   "source": [
    "class Student(object):\n",
    "\n",
    "    class_name = 'Student'   # 类属性\n",
    "    \n",
    "    def __init__(self, name, score):\n",
    "        self.name = name\n",
    "        self.score = score   # 实例属性\n",
    "\n",
    "    def print_score(self):\n",
    "        print('%s: %s' % (self.name, self.score))\n",
    "        \n",
    "    def get_grade(self):\n",
    "        if self.score >= 90:\n",
    "            return 'A'\n",
    "        elif self.score >= 60:\n",
    "            return 'B'\n",
    "        else:\n",
    "            return 'C'\n",
    "        \n",
    "        \n",
    "lisa = Student('Lisa', 99)\n",
    "bart = Student('Bart', 59)\n",
    "print(lisa.name, lisa.get_grade())\n",
    "print(bart.name, bart.get_grade())\n",
    "print(lisa.class_name, bart.class_name)"
   ]
  },
  {
   "cell_type": "markdown",
   "metadata": {},
   "source": [
    "### 6.2 父类和继承"
   ]
  },
  {
   "cell_type": "code",
   "execution_count": 176,
   "metadata": {},
   "outputs": [],
   "source": [
    "class Animal(object):\n",
    "    def __init__(self):\n",
    "        self.name = 'Animal'\n",
    "        \n",
    "    def run(self):\n",
    "        print('Animal is running...')\n",
    "        \n",
    "    def eat(self):\n",
    "        print('eating...')"
   ]
  },
  {
   "cell_type": "code",
   "execution_count": 178,
   "metadata": {},
   "outputs": [],
   "source": [
    "class Dog(Animal):\n",
    "    def run(self):\n",
    "        print('Dog is running...')\n",
    "\n",
    "        \n",
    "class Cat(Animal):\n",
    "    def run(self):\n",
    "        print('Cat is running...')"
   ]
  },
  {
   "cell_type": "markdown",
   "metadata": {},
   "source": [
    "##### object → Animal → Dog　　　object → Animal → Cat"
   ]
  },
  {
   "cell_type": "code",
   "execution_count": 179,
   "metadata": {},
   "outputs": [
    {
     "name": "stdout",
     "output_type": "stream",
     "text": [
      "Animal\n",
      "eating...\n",
      "Dog is running...\n"
     ]
    }
   ],
   "source": [
    "dog = Dog()\n",
    "print(dog.name)\n",
    "dog.eat()\n",
    "dog.run()"
   ]
  },
  {
   "cell_type": "code",
   "execution_count": 180,
   "metadata": {},
   "outputs": [
    {
     "name": "stdout",
     "output_type": "stream",
     "text": [
      "Animal\n",
      "eating...\n",
      "Cat is running...\n"
     ]
    }
   ],
   "source": [
    "cat = Cat()\n",
    "print(cat.name)\n",
    "cat.eat()\n",
    "cat.run()"
   ]
  },
  {
   "cell_type": "code",
   "execution_count": 181,
   "metadata": {},
   "outputs": [
    {
     "name": "stdout",
     "output_type": "stream",
     "text": [
      "True\n",
      "True\n",
      "True\n",
      "True\n"
     ]
    }
   ],
   "source": [
    "print(isinstance(dog, Dog))\n",
    "print(isinstance(dog, Animal))\n",
    "print(isinstance(dog, object))\n",
    "\n",
    "print(isinstance(Animal, object))"
   ]
  },
  {
   "cell_type": "markdown",
   "metadata": {},
   "source": [
    "### 6.3 魔法函数\n",
    "什么是魔法函数？\n",
    "\n",
    "1）在python中以双下滑线开头并且以双下滑线结尾的函数\n",
    "\n",
    "2）魔法函数可以随意定义某个类的特性，这些方法在进行特定的操作时会自动被调用\n",
    "\n",
    "常用的魔法函数：\n",
    "\n",
    "__init__ 用于初始化\n",
    "\n",
    "__str__ 用于print()调用\n",
    "\n",
    "__repr__ 实例创建时自动显示\n",
    "\n",
    "__len__ 用于len()调用\n",
    "\n",
    "__iter__ 用于for循环\n",
    "\n",
    "__getitem__ 用于切片查询\n",
    "\n",
    "__setitem__  用于修改元素\n",
    "\n",
    "......"
   ]
  },
  {
   "cell_type": "markdown",
   "metadata": {},
   "source": [
    "例子：\n",
    "\n",
    "创建一个类，为背包Bag\n",
    "\n",
    "实施功能：\n",
    "\n",
    "容量上限默认为32，可设置\n",
    "\n",
    "add\n",
    "\n",
    "print\n",
    "\n",
    "len\n",
    "\n",
    "remove\n",
    "\n",
    "iter"
   ]
  },
  {
   "cell_type": "code",
   "execution_count": 182,
   "metadata": {},
   "outputs": [],
   "source": [
    "class Bag(object):\n",
    "    \"\"\"\n",
    "    类：背包\n",
    "    \"\"\"\n",
    "    def __init__(self, max_size=32):\n",
    "        self.max_size = max_size\n",
    "        self._items = list()\n",
    "    \n",
    "    def __str__(self):\n",
    "        return \"This is a bag with maximum size of {}.\".format(self.max_size)\n",
    "    \n",
    "    def add(self, item):\n",
    "        if len(self) >= self.max_size:\n",
    "            raise Exception('Bag is full')\n",
    "        self._items.append(item)\n",
    "        \n",
    "    def __len__(self):\n",
    "        return len(self._items)\n",
    "    \n",
    "    def pop(self):\n",
    "        self._items.pop()\n",
    "        \n",
    "    def remove(self, item):\n",
    "        self._items.remove(item)\n",
    "        \n",
    "    def __iter___(self):\n",
    "        for item in self._items:\n",
    "            yield item\n",
    "            \n",
    "    def __getitem__(self, idx):\n",
    "        return self._items[idx]\n",
    "    \n",
    "    def __setitem__(self, idx, value):\n",
    "        self._items[idx] = value"
   ]
  },
  {
   "cell_type": "code",
   "execution_count": 188,
   "metadata": {},
   "outputs": [
    {
     "name": "stdout",
     "output_type": "stream",
     "text": [
      "This is a bag with maximum size of 5.\n",
      "0\n"
     ]
    }
   ],
   "source": [
    "bag = Bag(5)\n",
    "print(bag)\n",
    "print(len(bag))"
   ]
  },
  {
   "cell_type": "code",
   "execution_count": 189,
   "metadata": {},
   "outputs": [
    {
     "name": "stdout",
     "output_type": "stream",
     "text": [
      "5\n",
      "[1, 2, 3, 4, 5]\n"
     ]
    }
   ],
   "source": [
    "bag.add(1)\n",
    "bag.add(2)\n",
    "bag.add(3)\n",
    "bag.add(4)\n",
    "bag.add(5)\n",
    "\n",
    "print(len(bag))\n",
    "print(bag._items)"
   ]
  },
  {
   "cell_type": "code",
   "execution_count": 185,
   "metadata": {},
   "outputs": [
    {
     "data": {
      "text/plain": [
       "1"
      ]
     },
     "execution_count": 185,
     "metadata": {},
     "output_type": "execute_result"
    }
   ],
   "source": [
    "bag[0]"
   ]
  },
  {
   "cell_type": "code",
   "execution_count": 192,
   "metadata": {},
   "outputs": [
    {
     "name": "stdout",
     "output_type": "stream",
     "text": [
      "[6, 2, 3, 4]\n"
     ]
    }
   ],
   "source": [
    "bag[0] = 6\n",
    "print(bag._items)"
   ]
  },
  {
   "cell_type": "code",
   "execution_count": 187,
   "metadata": {},
   "outputs": [
    {
     "ename": "Exception",
     "evalue": "Bag is full",
     "output_type": "error",
     "traceback": [
      "\u001b[1;31m---------------------------------------------------------------------------\u001b[0m",
      "\u001b[1;31mException\u001b[0m                                 Traceback (most recent call last)",
      "\u001b[1;32m<ipython-input-187-86c362e09047>\u001b[0m in \u001b[0;36m<module>\u001b[1;34m\u001b[0m\n\u001b[1;32m----> 1\u001b[1;33m \u001b[0mbag\u001b[0m\u001b[1;33m.\u001b[0m\u001b[0madd\u001b[0m\u001b[1;33m(\u001b[0m\u001b[1;36m7\u001b[0m\u001b[1;33m)\u001b[0m\u001b[1;33m\u001b[0m\u001b[1;33m\u001b[0m\u001b[0m\n\u001b[0m",
      "\u001b[1;32m<ipython-input-182-155f5cce16e9>\u001b[0m in \u001b[0;36madd\u001b[1;34m(self, item)\u001b[0m\n\u001b[0;32m     12\u001b[0m     \u001b[1;32mdef\u001b[0m \u001b[0madd\u001b[0m\u001b[1;33m(\u001b[0m\u001b[0mself\u001b[0m\u001b[1;33m,\u001b[0m \u001b[0mitem\u001b[0m\u001b[1;33m)\u001b[0m\u001b[1;33m:\u001b[0m\u001b[1;33m\u001b[0m\u001b[1;33m\u001b[0m\u001b[0m\n\u001b[0;32m     13\u001b[0m         \u001b[1;32mif\u001b[0m \u001b[0mlen\u001b[0m\u001b[1;33m(\u001b[0m\u001b[0mself\u001b[0m\u001b[1;33m)\u001b[0m \u001b[1;33m>=\u001b[0m \u001b[0mself\u001b[0m\u001b[1;33m.\u001b[0m\u001b[0mmax_size\u001b[0m\u001b[1;33m:\u001b[0m\u001b[1;33m\u001b[0m\u001b[1;33m\u001b[0m\u001b[0m\n\u001b[1;32m---> 14\u001b[1;33m             \u001b[1;32mraise\u001b[0m \u001b[0mException\u001b[0m\u001b[1;33m(\u001b[0m\u001b[1;34m'Bag is full'\u001b[0m\u001b[1;33m)\u001b[0m\u001b[1;33m\u001b[0m\u001b[1;33m\u001b[0m\u001b[0m\n\u001b[0m\u001b[0;32m     15\u001b[0m         \u001b[0mself\u001b[0m\u001b[1;33m.\u001b[0m\u001b[0m_items\u001b[0m\u001b[1;33m.\u001b[0m\u001b[0mappend\u001b[0m\u001b[1;33m(\u001b[0m\u001b[0mitem\u001b[0m\u001b[1;33m)\u001b[0m\u001b[1;33m\u001b[0m\u001b[1;33m\u001b[0m\u001b[0m\n\u001b[0;32m     16\u001b[0m \u001b[1;33m\u001b[0m\u001b[0m\n",
      "\u001b[1;31mException\u001b[0m: Bag is full"
     ]
    }
   ],
   "source": [
    "bag.add(7)"
   ]
  },
  {
   "cell_type": "code",
   "execution_count": 190,
   "metadata": {},
   "outputs": [
    {
     "name": "stdout",
     "output_type": "stream",
     "text": [
      "4\n",
      "[1, 2, 3, 4]\n"
     ]
    }
   ],
   "source": [
    "bag.pop()\n",
    "print(len(bag))\n",
    "print(bag._items)"
   ]
  },
  {
   "cell_type": "code",
   "execution_count": 193,
   "metadata": {},
   "outputs": [
    {
     "name": "stdout",
     "output_type": "stream",
     "text": [
      "3\n",
      "[2, 3, 4]\n"
     ]
    }
   ],
   "source": [
    "bag.remove(6)\n",
    "print(len(bag))\n",
    "print(bag._items)"
   ]
  },
  {
   "cell_type": "code",
   "execution_count": 194,
   "metadata": {},
   "outputs": [
    {
     "data": {
      "text/plain": [
       "[2, 3, 4]"
      ]
     },
     "execution_count": 194,
     "metadata": {},
     "output_type": "execute_result"
    }
   ],
   "source": [
    "list(bag)"
   ]
  },
  {
   "cell_type": "code",
   "execution_count": null,
   "metadata": {},
   "outputs": [],
   "source": []
  }
 ],
 "metadata": {
  "kernelspec": {
   "display_name": "Python 3",
   "language": "python",
   "name": "python3"
  },
  "language_info": {
   "codemirror_mode": {
    "name": "ipython",
    "version": 3
   },
   "file_extension": ".py",
   "mimetype": "text/x-python",
   "name": "python",
   "nbconvert_exporter": "python",
   "pygments_lexer": "ipython3",
   "version": "3.7.1"
  }
 },
 "nbformat": 4,
 "nbformat_minor": 2
}
